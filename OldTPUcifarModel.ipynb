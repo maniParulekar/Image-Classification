{
  "nbformat": 4,
  "nbformat_minor": 0,
  "metadata": {
    "colab": {
      "name": "TPUcifarModel.ipynb",
      "provenance": [],
      "collapsed_sections": []
    },
    "kernelspec": {
      "name": "python3",
      "display_name": "Python 3"
    },
    "accelerator": "TPU"
  },
  "cells": [
    {
      "cell_type": "code",
      "metadata": {
        "id": "AqVpRXzERFzr",
        "colab_type": "code",
        "colab": {}
      },
      "source": [
        ""
      ],
      "execution_count": 0,
      "outputs": []
    },
    {
      "cell_type": "code",
      "metadata": {
        "id": "z0DRPKl39290",
        "colab_type": "code",
        "colab": {}
      },
      "source": [
        "import numpy as np\n",
        "import pickle\n",
        "import os\n",
        "import urllib\n",
        "import zipfile \n",
        "import tarfile\n",
        "from six.moves import urllib\n",
        "\n",
        "from __future__ import absolute_import\n",
        "from __future__ import division\n",
        "from __future__ import print_function\n",
        "\n",
        "# tensorflow imports\n",
        "import tensorflow as tf\n",
        "from tensorflow.contrib.training import HParams\n",
        "\n",
        "# tf.keras imports\n",
        "from tensorflow.keras import Model\n",
        "from tensorflow.keras.layers import Dense, Conv2D, Activation, Flatten\n",
        "from tensorflow.keras.layers import BatchNormalization, AveragePooling2D, Input\n",
        "from tensorflow.keras.preprocessing.image import ImageDataGenerator\n",
        "\n",
        "# import for showing the confusion matrix\n",
        "import itertools\n",
        "from sklearn.metrics import confusion_matrix\n",
        "import matplotlib.pyplot as plt\n",
        "import numpy as np"
      ],
      "execution_count": 0,
      "outputs": []
    },
    {
      "cell_type": "code",
      "metadata": {
        "id": "qS3VENYIROpC",
        "colab_type": "code",
        "colab": {}
      },
      "source": [
        ""
      ],
      "execution_count": 0,
      "outputs": []
    },
    {
      "cell_type": "code",
      "metadata": {
        "id": "KZtezQ4qD-lU",
        "colab_type": "code",
        "colab": {}
      },
      "source": [
        "hparams = HParams(\n",
        "    n_classes=10,  # number of different classes in dataset\n",
        "    learning_rate=1e-4,  # fixed learning rate\n",
        "    train_batch_size=32,  # training batch size\n",
        "    val_batch_size=32,  # validation batch size\n",
        "    test_batch_size=32,  # testing batch size\n",
        "    n_epochs=10,  # number of epochs to train\n",
        "    input_name='input_1',  # name of the input tensor for first layer of Keras model\n",
        "    data_dir='/tmp/cifar-data/',  # path to data directory\n",
        "    checkpoint_dir='/tmp/checkpoints/'  # path to model checkpoint directory\n",
        ")"
      ],
      "execution_count": 0,
      "outputs": []
    },
    {
      "cell_type": "code",
      "metadata": {
        "id": "L35DdtT_FOXP",
        "colab_type": "code",
        "colab": {
          "base_uri": "https://localhost:8080/",
          "height": 235
        },
        "outputId": "0f7fa305-126c-4baa-b04c-d8a292ffc634"
      },
      "source": [
        "! wget https://bin.equinox.io/c/4VmDzA7iaHb/ngrok-stable-linux-amd64.zip\n",
        "! unzip -o ngrok-stable-linux-amd64.zip"
      ],
      "execution_count": 4,
      "outputs": [
        {
          "output_type": "stream",
          "text": [
            "--2019-10-14 19:39:27--  https://bin.equinox.io/c/4VmDzA7iaHb/ngrok-stable-linux-amd64.zip\n",
            "Resolving bin.equinox.io (bin.equinox.io)... 52.3.53.115, 34.196.216.163, 52.204.38.150, ...\n",
            "Connecting to bin.equinox.io (bin.equinox.io)|52.3.53.115|:443... connected.\n",
            "HTTP request sent, awaiting response... 200 OK\n",
            "Length: 13773305 (13M) [application/octet-stream]\n",
            "Saving to: ‘ngrok-stable-linux-amd64.zip’\n",
            "\n",
            "ngrok-stable-linux- 100%[===================>]  13.13M  31.0MB/s    in 0.4s    \n",
            "\n",
            "2019-10-14 19:39:28 (31.0 MB/s) - ‘ngrok-stable-linux-amd64.zip’ saved [13773305/13773305]\n",
            "\n",
            "Archive:  ngrok-stable-linux-amd64.zip\n",
            "  inflating: ngrok                   \n"
          ],
          "name": "stdout"
        }
      ]
    },
    {
      "cell_type": "code",
      "metadata": {
        "id": "Gr-diEBYRrLC",
        "colab_type": "code",
        "colab": {
          "base_uri": "https://localhost:8080/",
          "height": 235
        },
        "outputId": "cef79d7d-6b30-4ffe-dcd7-5a9b5ade560d"
      },
      "source": [
        "import os\n",
        "import pprint\n",
        "import tensorflow as tf\n",
        "\n",
        "if 'COLAB_TPU_ADDR' not in os.environ:\n",
        "  print('ERROR: Not connected to a TPU runtime; please see the first cell in this notebook for instructions!')\n",
        "else:\n",
        "  tpu_address = 'grpc://' + os.environ['COLAB_TPU_ADDR']\n",
        "  print ('TPU address is', tpu_address)\n",
        "\n",
        "  with tf.Session(tpu_address) as session:\n",
        "    devices = session.list_devices()\n",
        "    \n",
        "  print('TPU devices:')\n",
        "  pprint.pprint(devices)"
      ],
      "execution_count": 5,
      "outputs": [
        {
          "output_type": "stream",
          "text": [
            "TPU address is grpc://10.122.57.234:8470\n",
            "TPU devices:\n",
            "[_DeviceAttributes(/job:tpu_worker/replica:0/task:0/device:CPU:0, CPU, -1, 17000014224146503991),\n",
            " _DeviceAttributes(/job:tpu_worker/replica:0/task:0/device:XLA_CPU:0, XLA_CPU, 17179869184, 15596874545428975312),\n",
            " _DeviceAttributes(/job:tpu_worker/replica:0/task:0/device:TPU:0, TPU, 17179869184, 8098472124029523425),\n",
            " _DeviceAttributes(/job:tpu_worker/replica:0/task:0/device:TPU:1, TPU, 17179869184, 12066745907509952555),\n",
            " _DeviceAttributes(/job:tpu_worker/replica:0/task:0/device:TPU:2, TPU, 17179869184, 6702596531973209726),\n",
            " _DeviceAttributes(/job:tpu_worker/replica:0/task:0/device:TPU:3, TPU, 17179869184, 6798188185226095051),\n",
            " _DeviceAttributes(/job:tpu_worker/replica:0/task:0/device:TPU:4, TPU, 17179869184, 156870001089814519),\n",
            " _DeviceAttributes(/job:tpu_worker/replica:0/task:0/device:TPU:5, TPU, 17179869184, 15629259245018844438),\n",
            " _DeviceAttributes(/job:tpu_worker/replica:0/task:0/device:TPU:6, TPU, 17179869184, 2534470430609920471),\n",
            " _DeviceAttributes(/job:tpu_worker/replica:0/task:0/device:TPU:7, TPU, 17179869184, 11852249178598196420),\n",
            " _DeviceAttributes(/job:tpu_worker/replica:0/task:0/device:TPU_SYSTEM:0, TPU_SYSTEM, 8589934592, 14196674373542193811)]\n"
          ],
          "name": "stdout"
        }
      ]
    },
    {
      "cell_type": "code",
      "metadata": {
        "id": "YwZrIjZkEEYu",
        "colab_type": "code",
        "colab": {
          "base_uri": "https://localhost:8080/",
          "height": 50
        },
        "outputId": "fdf1d1ff-aba7-481f-ea9f-86104c9f0e86"
      },
      "source": [
        "# kill all running ngrok instances\n",
        "!pkill -f ngrok\n",
        "\n",
        "# Execute tensorboard\n",
        "!rm rf /tmp/checkpoints\n",
        "!mkdir /tmp/checkpoints\n",
        "LOG_DIR = '/tmp/checkpoints/'\n",
        "get_ipython().system_raw(\n",
        "    'tensorboard --logdir {} --host 0.0.0.0 --port 6006 &'\n",
        "    .format(LOG_DIR)\n",
        ")\n",
        "\n",
        "# execute ngrok\n",
        "get_ipython().system_raw('./ngrok http 6006 &')"
      ],
      "execution_count": 6,
      "outputs": [
        {
          "output_type": "stream",
          "text": [
            "rm: cannot remove 'rf': No such file or directory\n",
            "rm: cannot remove '/tmp/checkpoints': No such file or directory\n"
          ],
          "name": "stdout"
        }
      ]
    },
    {
      "cell_type": "code",
      "metadata": {
        "id": "3Imio4YREFzg",
        "colab_type": "code",
        "colab": {
          "base_uri": "https://localhost:8080/",
          "height": 34
        },
        "outputId": "2a9593c5-972b-40fc-e61f-5039615b3344"
      },
      "source": [
        "# Do the tunneling\n",
        "! curl -s http://localhost:4040/api/tunnels | python3 -c \\\n",
        "    \"import sys, json; print(json.load(sys.stdin)['tunnels'][0]['public_url'])\""
      ],
      "execution_count": 7,
      "outputs": [
        {
          "output_type": "stream",
          "text": [
            "https://e92dc435.ngrok.io\n"
          ],
          "name": "stdout"
        }
      ]
    },
    {
      "cell_type": "code",
      "metadata": {
        "id": "2EpQ-iJN94G1",
        "colab_type": "code",
        "colab": {}
      },
      "source": [
        "# URL for the data-set on the internet.\n",
        "data_url = \"https://www.cs.toronto.edu/~kriz/cifar-10-python.tar.gz\"\n",
        "\n",
        "# Width and height of each image.\n",
        "img_size = 32\n",
        "\n",
        "# Number of channels in each image, 3 channels: Red, Green, Blue.\n",
        "num_channels = 3\n",
        "\n",
        "# Length of an image when flattened to a 1-dim array.\n",
        "img_size_flat = img_size * img_size * num_channels\n",
        "\n",
        "# Number of classes.\n",
        "num_classes = hparams.n_classes\n",
        "\n",
        "########################################################################\n",
        "# Various constants used to allocate arrays of the correct size.\n",
        "\n",
        "# Number of files for the training-set.\n",
        "_num_files_train = 5\n",
        "\n",
        "# Number of images for each batch-file in the training-set.\n",
        "_images_per_file = 10000\n",
        "\n",
        "# Total number of images in the training-set.\n",
        "# This is used to pre-allocate arrays for efficiency.\n",
        "_num_images_train = _num_files_train * _images_per_file\n",
        "\n",
        "########################################################################\n",
        "# Private functions for downloading, unpacking and loading data-files.\n",
        "\n",
        "\n",
        "def download(base_url, filename, download_dir):\n",
        "    \"\"\"\n",
        "    Download the given file if it does not already exist in the download_dir.\n",
        "    :param base_url: The internet URL without the filename.\n",
        "    :param filename: The filename that will be added to the base_url.\n",
        "    :param download_dir: Local directory for storing the file.\n",
        "    :return: Nothing.\n",
        "    \"\"\"\n",
        "\n",
        "    # Path for local file.\n",
        "    save_path = os.path.join(download_dir, filename)\n",
        "\n",
        "    # Check if the file already exists, otherwise we need to download it now.\n",
        "    if not os.path.exists(save_path):\n",
        "        # Check if the download directory exists, otherwise create it.\n",
        "        if not os.path.exists(download_dir):\n",
        "            os.makedirs(download_dir)\n",
        "\n",
        "        print(\"Downloading\", filename, \"...\")\n",
        "\n",
        "        # Download the file from the internet.\n",
        "        url = base_url + filename\n",
        "        file_path, _ = urllib.request.urlretrieve(url=url,\n",
        "                                                  filename=save_path)\n",
        "\n",
        "        print(\" Done!\")\n",
        "\n",
        "\n",
        "def maybe_download_and_extract(url=data_url, download_dir=hparams.data_dir):\n",
        "    \"\"\"\n",
        "    Download and extract the data if it doesn't already exist.\n",
        "    Assumes the url is a tar-ball file.\n",
        "    :param url:\n",
        "        Internet URL for the tar-file to download.\n",
        "        Example: \"https://www.cs.toronto.edu/~kriz/cifar-10-python.tar.gz\"\n",
        "    :param download_dir:\n",
        "        Directory where the downloaded file is saved.\n",
        "        Example: \"data/CIFAR-10/\"\n",
        "    :return:\n",
        "        Nothing.\n",
        "    \"\"\"\n",
        "\n",
        "    # Filename for saving the file downloaded from the internet.\n",
        "    # Use the filename from the URL and add it to the download_dir.\n",
        "    filename = url.split('/')[-1]\n",
        "    file_path = os.path.join(download_dir, filename)\n",
        "\n",
        "    # Check if the file already exists.\n",
        "    # If it exists then we assume it has also been extracted,\n",
        "    # otherwise we need to download and extract it now.\n",
        "    if not os.path.exists(file_path):\n",
        "        # Check if the download directory exists, otherwise create it.\n",
        "        if not os.path.exists(download_dir):\n",
        "            os.makedirs(download_dir)\n",
        "\n",
        "        # Download the file from the internet.\n",
        "        file_path, _ = urllib.request.urlretrieve(url=url,\n",
        "                                                  filename=file_path)\n",
        "\n",
        "        print()\n",
        "        print(\"Download finished. Extracting files.\")\n",
        "\n",
        "        if file_path.endswith(\".zip\"):\n",
        "            # Unpack the zip-file.\n",
        "            zipfile.ZipFile(file=file_path, mode=\"r\").extractall(download_dir)\n",
        "        elif file_path.endswith((\".tar.gz\", \".tgz\")):\n",
        "            # Unpack the tar-ball.\n",
        "            tarfile.open(name=file_path, mode=\"r:gz\").extractall(download_dir)\n",
        "\n",
        "        print(\"Done.\")\n",
        "    else:\n",
        "        print(\"Data has apparently already been downloaded and unpacked.\")\n",
        "\n",
        "\n",
        "def _get_file_path(filename=\"\"):\n",
        "    \"\"\"\n",
        "    Return the full path of a data-file for the data-set.\n",
        "\n",
        "    If filename==\"\" then return the directory of the files.\n",
        "    \"\"\"\n",
        "\n",
        "    return os.path.join(hparams.data_dir, \"cifar-10-batches-py/\", filename)\n",
        "\n",
        "\n",
        "def _unpickle(filename):\n",
        "    \"\"\"\n",
        "    Unpickle the given file and return the data.\n",
        "\n",
        "    Note that the appropriate dir-name is prepended the filename.\n",
        "    \"\"\"\n",
        "\n",
        "    # Create full path for the file.\n",
        "    file_path = _get_file_path(filename)\n",
        "\n",
        "    print(\"Loading data: \" + file_path)\n",
        "\n",
        "    with open(file_path, mode='rb') as file:\n",
        "        # In Python 3.X it is important to set the encoding,\n",
        "        # otherwise an exception is raised here.\n",
        "        data = pickle.load(file,encoding='bytes')\n",
        "\n",
        "    return data\n",
        "\n",
        "\n",
        "def _convert_images(raw):\n",
        "    \"\"\"\n",
        "    Convert images from the CIFAR-10 format and\n",
        "    return a 4-dim array with shape: [image_number, height, width, channel]\n",
        "    where the pixels are floats between 0.0 and 1.0.\n",
        "    \"\"\"\n",
        "\n",
        "    # Convert the raw images from the data-files to floating-points.\n",
        "    raw_float = np.array(raw, dtype=float) / 255.0\n",
        "\n",
        "    # Reshape the array to 4-dimensions.\n",
        "    images = raw_float.reshape([-1, num_channels, img_size, img_size])\n",
        "\n",
        "    # Reorder the indices of the array.\n",
        "    images = images.transpose([0, 2, 3, 1])\n",
        "\n",
        "    return images\n",
        "\n",
        "\n",
        "def _load_data(filename):\n",
        "    \"\"\"\n",
        "    Load a pickled data-file from the CIFAR-10 data-set\n",
        "    and return the converted images (see above) and the class-number\n",
        "    for each image.\n",
        "    \"\"\"\n",
        "\n",
        "    # Load the pickled data-file.\n",
        "    data = _unpickle(filename)\n",
        "\n",
        "    # Get the raw images.\n",
        "    raw_images = data[b'data']\n",
        "\n",
        "    # Get the class-numbers for each image. Convert to numpy-array.\n",
        "    cls = np.array(data[b'labels'])\n",
        "\n",
        "    # Convert the images.\n",
        "    images = _convert_images(raw_images)\n",
        "\n",
        "    return images, cls\n",
        "\n",
        "\n",
        "def load_class_names():\n",
        "    # Load the class-names from the pickled file.\n",
        "    raw = _unpickle(filename=\"batches.meta\")[b'label_names']\n",
        "\n",
        "    # Convert from binary strings.\n",
        "    names = [x.decode('utf-8') for x in raw]\n",
        "\n",
        "    return names\n",
        "\n",
        "\n",
        "def load_training_data():\n",
        "    \"\"\"\n",
        "    Load all the training-data for the CIFAR-10 data-set.\n",
        "\n",
        "    The data-set is split into 5 data-files which are merged here.\n",
        "\n",
        "    Returns the images, class-numbers and one-hot encoded class-labels.\n",
        "    \"\"\"\n",
        "\n",
        "    # Pre-allocate the arrays for the images and class-numbers for efficiency.\n",
        "    images = np.zeros(shape=[_num_images_train, img_size, img_size, num_channels], dtype=float)\n",
        "    cls = np.zeros(shape=[_num_images_train], dtype=int)\n",
        "\n",
        "    # Begin-index for the current batch.\n",
        "    begin = 0\n",
        "\n",
        "    # For each data-file.\n",
        "    for i in range(_num_files_train):\n",
        "        # Load the images and class-numbers from the data-file.\n",
        "        images_batch, cls_batch = _load_data(filename=\"data_batch_\" + str(i + 1))\n",
        "\n",
        "        # Number of images in this batch.\n",
        "        num_images = len(images_batch)\n",
        "\n",
        "        # End-index for the current batch.\n",
        "        end = begin + num_images\n",
        "\n",
        "        # Store the images into the array.\n",
        "        images[begin:end, :] = images_batch\n",
        "\n",
        "        # Store the class-numbers into the array.\n",
        "        cls[begin:end] = cls_batch\n",
        "\n",
        "        # The begin-index for the next batch is the current end-index.\n",
        "        begin = end\n",
        "\n",
        "    return images, cls\n",
        "\n",
        "\n",
        "def load_validation_data():\n",
        "\n",
        "    images, cls = _load_data(filename=\"test_batch\")\n",
        "\n",
        "    images = images[5000:, :, :, :]\n",
        "    cls = cls[5000:]\n",
        "\n",
        "    return images, cls\n",
        "\n",
        "def load_testing_data():\n",
        "\n",
        "\n",
        "    images, cls = _load_data(filename=\"test_batch\")\n",
        "\n",
        "    images = images[:5000, :, :, :]\n",
        "    cls = cls[:5000]\n",
        "\n",
        "    return images, cls"
      ],
      "execution_count": 0,
      "outputs": []
    },
    {
      "cell_type": "code",
      "metadata": {
        "id": "wnq5ASa21gpQ",
        "colab_type": "code",
        "outputId": "8f91e781-fa74-4bec-e231-85896d392330",
        "colab": {
          "base_uri": "https://localhost:8080/",
          "height": 84
        }
      },
      "source": [
        "import matplotlib.pyplot as plt\n",
        "maybe_download_and_extract()\n",
        "x_val, y_val = load_validation_data()"
      ],
      "execution_count": 9,
      "outputs": [
        {
          "output_type": "stream",
          "text": [
            "\n",
            "Download finished. Extracting files.\n",
            "Done.\n",
            "Loading data: /tmp/cifar-data/cifar-10-batches-py/test_batch\n"
          ],
          "name": "stdout"
        }
      ]
    },
    {
      "cell_type": "code",
      "metadata": {
        "id": "UsCeVdHD2jQC",
        "colab_type": "code",
        "outputId": "45d9f367-39fc-4ffd-c18f-2ebdc08f2ac7",
        "colab": {
          "base_uri": "https://localhost:8080/",
          "height": 34
        }
      },
      "source": [
        "x_val.shape"
      ],
      "execution_count": 10,
      "outputs": [
        {
          "output_type": "execute_result",
          "data": {
            "text/plain": [
              "(5000, 32, 32, 3)"
            ]
          },
          "metadata": {
            "tags": []
          },
          "execution_count": 10
        }
      ]
    },
    {
      "cell_type": "code",
      "metadata": {
        "id": "slIg17Vi3Ipy",
        "colab_type": "code",
        "outputId": "0ab71828-348a-4e28-8007-211e8ac02e0e",
        "colab": {
          "base_uri": "https://localhost:8080/",
          "height": 269
        }
      },
      "source": [
        "fig = plt.figure(figsize=(5,4))\n",
        "for i in range(3):\n",
        "    for j in range(3):\n",
        "        ax = fig.add_subplot(3, 3, i * 3 + j + 1)\n",
        "        ax.imshow(x_val[i * 3 + j])"
      ],
      "execution_count": 11,
      "outputs": [
        {
          "output_type": "display_data",
          "data": {
            "image/png": "[encoded data removed]",
            "text/plain": [
              "<Figure size 360x288 with 9 Axes>"
            ]
          },
          "metadata": {
            "tags": []
          }
        }
      ]
    },
    {
      "cell_type": "code",
      "metadata": {
        "id": "o5jKLIOwb7zU",
        "colab_type": "code",
        "colab": {}
      },
      "source": [
        "from tensorflow.keras.layers import MaxPooling2D\n"
      ],
      "execution_count": 0,
      "outputs": []
    },
    {
      "cell_type": "code",
      "metadata": {
        "id": "UZh5-vKjfKuG",
        "colab_type": "code",
        "colab": {}
      },
      "source": [
        "from tensorflow.keras.optimizers import Adamax\n",
        "from tensorflow.keras.regularizers import l2"
      ],
      "execution_count": 0,
      "outputs": []
    },
    {
      "cell_type": "code",
      "metadata": {
        "id": "zUjWeCjjYVQJ",
        "colab_type": "code",
        "colab": {}
      },
      "source": [
        "def get_model():\n",
        "    \n",
        "    model = tf.keras.models.Sequential()\n",
        "    \n",
        "    model.add(Conv2D(filters=32, kernel_size=(3,3), padding='same', input_shape=(32, 32, 3), activation='elu'))\n",
        "    model.add(Conv2D(filters=32, kernel_size=(3, 3), activation='elu'))\n",
        "    model.add(MaxPooling2D(pool_size=(2, 2)))\n",
        "    \n",
        "    model.add(Conv2D(filters=64, kernel_size=(3,3), activation='elu'))\n",
        "    model.add(Conv2D(filters=64, kernel_size=(3, 3), activation='elu'))\n",
        "    model.add(MaxPooling2D(pool_size=(2, 2)))\n",
        "    \n",
        "    model.add(Flatten())\n",
        "    \n",
        "    model.add(Dense(units=512, activation='elu'))\n",
        "    model.add(Dense(units=128, activation='elu'))\n",
        "    model.add(Dense(units=32, activation='elu'))\n",
        "    model.add(Dense(units=10, activation='elu'))\n",
        "    \n",
        "    model.add(Dense(units=10, activation='softmax'))\n",
        "    \n",
        "    print('Model initialized. Please compile before training.')\n",
        "    \n",
        "    return model"
      ],
      "execution_count": 0,
      "outputs": []
    },
    {
      "cell_type": "code",
      "metadata": {
        "id": "QAPmaPe9ZKsb",
        "colab_type": "code",
        "colab": {}
      },
      "source": [
        "# Hyperparameters\n",
        "\n",
        "batch_size = 128\n",
        "epochs = 50"
      ],
      "execution_count": 0,
      "outputs": []
    },
    {
      "cell_type": "code",
      "metadata": {
        "id": "0vIxruD6ZlCx",
        "colab_type": "code",
        "colab": {
          "base_uri": "https://localhost:8080/",
          "height": 34
        },
        "outputId": "ca74b2a8-5299-4d25-cfe1-f72941ee2937"
      },
      "source": [
        "model_sgd_plain = get_model()"
      ],
      "execution_count": 48,
      "outputs": [
        {
          "output_type": "stream",
          "text": [
            "Model initialized. Please compile before training.\n"
          ],
          "name": "stdout"
        }
      ]
    },
    {
      "cell_type": "code",
      "metadata": {
        "id": "nk8od4cqePFk",
        "colab_type": "code",
        "colab": {
          "base_uri": "https://localhost:8080/",
          "height": 554
        },
        "outputId": "cee7e8d4-5bf2-4b02-a44c-cb76b24db803"
      },
      "source": [
        "model_sgd_plain.summary()\n",
        "sgd_plain = Adamax(learning_rate=hparams.learning_rate)\n",
        "model_sgd_plain.compile(loss='sparse_categorical_crossentropy', optimizer=sgd_plain, metrics=['accuracy'])"
      ],
      "execution_count": 51,
      "outputs": [
        {
          "output_type": "stream",
          "text": [
            "Model: \"sequential_3\"\n",
            "_________________________________________________________________\n",
            "Layer (type)                 Output Shape              Param #   \n",
            "=================================================================\n",
            "conv2d_6 (Conv2D)            (None, 32, 32, 32)        896       \n",
            "_________________________________________________________________\n",
            "conv2d_7 (Conv2D)            (None, 30, 30, 32)        9248      \n",
            "_________________________________________________________________\n",
            "max_pooling2d_2 (MaxPooling2 (None, 15, 15, 32)        0         \n",
            "_________________________________________________________________\n",
            "conv2d_8 (Conv2D)            (None, 13, 13, 64)        18496     \n",
            "_________________________________________________________________\n",
            "conv2d_9 (Conv2D)            (None, 11, 11, 64)        36928     \n",
            "_________________________________________________________________\n",
            "max_pooling2d_3 (MaxPooling2 (None, 5, 5, 64)          0         \n",
            "_________________________________________________________________\n",
            "flatten_1 (Flatten)          (None, 1600)              0         \n",
            "_________________________________________________________________\n",
            "dense_5 (Dense)              (None, 512)               819712    \n",
            "_________________________________________________________________\n",
            "dense_6 (Dense)              (None, 128)               65664     \n",
            "_________________________________________________________________\n",
            "dense_7 (Dense)              (None, 32)                4128      \n",
            "_________________________________________________________________\n",
            "dense_8 (Dense)              (None, 10)                330       \n",
            "_________________________________________________________________\n",
            "dense_9 (Dense)              (None, 10)                110       \n",
            "=================================================================\n",
            "Total params: 955,512\n",
            "Trainable params: 955,512\n",
            "Non-trainable params: 0\n",
            "_________________________________________________________________\n"
          ],
          "name": "stdout"
        }
      ]
    },
    {
      "cell_type": "code",
      "metadata": {
        "id": "ZJqSrbopf0xS",
        "colab_type": "code",
        "colab": {}
      },
      "source": [
        "tf.logging.set_verbosity(tf.logging.DEBUG)"
      ],
      "execution_count": 0,
      "outputs": []
    },
    {
      "cell_type": "code",
      "metadata": {
        "id": "NgCt1-UzgMoo",
        "colab_type": "code",
        "colab": {
          "base_uri": "https://localhost:8080/",
          "height": 134
        },
        "outputId": "52fb00f3-8164-473c-c0b4-c96002ee41e3"
      },
      "source": [
        "# training data\n",
        "x_train, y_train = load_training_data()\n",
        "\n",
        "# Validation data\n",
        "x_val, y_val = load_validation_data()\n",
        "\n",
        "# Testing data\n",
        "x_test, y_test = load_testing_data()\n",
        "\n",
        "# Define callbacks\n",
        "callbacks = [\n",
        "  tf.keras.callbacks.TensorBoard(log_dir=hparams.checkpoint_dir)\n",
        "]"
      ],
      "execution_count": 15,
      "outputs": [
        {
          "output_type": "stream",
          "text": [
            "Loading data: /tmp/cifar-data/cifar-10-batches-py/data_batch_1\n",
            "Loading data: /tmp/cifar-data/cifar-10-batches-py/data_batch_2\n",
            "Loading data: /tmp/cifar-data/cifar-10-batches-py/data_batch_3\n",
            "Loading data: /tmp/cifar-data/cifar-10-batches-py/data_batch_4\n",
            "Loading data: /tmp/cifar-data/cifar-10-batches-py/data_batch_5\n",
            "Loading data: /tmp/cifar-data/cifar-10-batches-py/test_batch\n",
            "Loading data: /tmp/cifar-data/cifar-10-batches-py/test_batch\n"
          ],
          "name": "stdout"
        }
      ]
    },
    {
      "cell_type": "code",
      "metadata": {
        "id": "XTzPFuuvgWmt",
        "colab_type": "code",
        "colab": {}
      },
      "source": [
        "# This will do preprocessing and realtime data augmentation:\n",
        "datagen = ImageDataGenerator(\n",
        "    featurewise_center=False,  # set input mean to 0 over the dataset\n",
        "    samplewise_center=False,  # set each sample mean to 0\n",
        "    featurewise_std_normalization=False,  # divide inputs by std of the dataset\n",
        "    samplewise_std_normalization=False,  # divide each input by its std\n",
        "    zca_whitening=False,  # apply ZCA whitening\n",
        "    zca_epsilon=1e-06,  # epsilon for ZCA whitening\n",
        "    rotation_range=0,  # randomly rotate images in the range (degrees, 0 to 180)\n",
        "    # randomly shift images horizontally (fraction of total width)\n",
        "    width_shift_range=0.1,\n",
        "    # randomly shift images vertically (fraction of total height)\n",
        "    height_shift_range=0.1,\n",
        "    # set mode for filling points outside the input boundaries\n",
        "    fill_mode='nearest',\n",
        "    cval=0.,  # value used for fill_mode = \"constant\"\n",
        "    horizontal_flip=True,  # randomly flip images\n",
        "    vertical_flip=False)\n",
        "\n",
        "# Compute quantities required for feature-wise normalization\n",
        "# (std, mean, and principal components if ZCA whitening is applied).\n",
        "datagen.fit(x_train)\n"
      ],
      "execution_count": 0,
      "outputs": []
    },
    {
      "cell_type": "code",
      "metadata": {
        "id": "pEJq1eO7g5a-",
        "colab_type": "code",
        "colab": {
          "base_uri": "https://localhost:8080/",
          "height": 706
        },
        "outputId": "a476b014-784c-492c-bc88-986618382a63"
      },
      "source": [
        "#model_sgd_plain.fit_generator( datagen.flow(x_train, y_train,batch_size=hparams.train_batch_size), epochs=hparams.n_epochs,\n",
        "    #validation_data=(x_val, y_val), callbacks=callbacks)\n"
      ],
      "execution_count": 56,
      "outputs": [
        {
          "output_type": "stream",
          "text": [
            "Epoch 1/10\n",
            "1562/1563 [============================>.] - ETA: 0s - loss: 1.6653 - acc: 0.4035Epoch 1/10\n",
            "5000/1563 [===============================================================================================] - 7s 1ms/sample - loss: 1.4934 - acc: 0.4492\n",
            "1563/1563 [==============================] - 256s 164ms/step - loss: 1.6651 - acc: 0.4036 - val_loss: 1.5409 - val_acc: 0.4492\n",
            "Epoch 2/10\n",
            "1562/1563 [============================>.] - ETA: 0s - loss: 1.5646 - acc: 0.4421Epoch 1/10\n",
            "5000/1563 [===============================================================================================] - 7s 1ms/sample - loss: 1.3794 - acc: 0.4736\n",
            "1563/1563 [==============================] - 255s 163ms/step - loss: 1.5645 - acc: 0.4422 - val_loss: 1.4675 - val_acc: 0.4736\n",
            "Epoch 3/10\n",
            "1562/1563 [============================>.] - ETA: 0s - loss: 1.4963 - acc: 0.4691Epoch 1/10\n",
            "5000/1563 [===============================================================================================] - 7s 1ms/sample - loss: 1.3230 - acc: 0.4622\n",
            "1563/1563 [==============================] - 251s 160ms/step - loss: 1.4961 - acc: 0.4692 - val_loss: 1.5101 - val_acc: 0.4622\n",
            "Epoch 4/10\n",
            "1562/1563 [============================>.] - ETA: 0s - loss: 1.4478 - acc: 0.4896Epoch 1/10\n",
            "5000/1563 [===============================================================================================] - 7s 1ms/sample - loss: 1.2367 - acc: 0.5088\n",
            "1563/1563 [==============================] - 250s 160ms/step - loss: 1.4478 - acc: 0.4896 - val_loss: 1.3772 - val_acc: 0.5088\n",
            "Epoch 5/10\n",
            "1562/1563 [============================>.] - ETA: 0s - loss: 1.4052 - acc: 0.5037Epoch 1/10\n",
            "5000/1563 [===============================================================================================] - 7s 1ms/sample - loss: 1.3224 - acc: 0.5224\n",
            "1563/1563 [==============================] - 252s 161ms/step - loss: 1.4051 - acc: 0.5038 - val_loss: 1.3411 - val_acc: 0.5224\n",
            "Epoch 6/10\n",
            "1562/1563 [============================>.] - ETA: 0s - loss: 1.3604 - acc: 0.5206Epoch 1/10\n",
            "5000/1563 [===============================================================================================] - 7s 1ms/sample - loss: 1.1731 - acc: 0.5362\n",
            "1563/1563 [==============================] - 258s 165ms/step - loss: 1.3604 - acc: 0.5206 - val_loss: 1.3220 - val_acc: 0.5362\n",
            "Epoch 7/10\n",
            "1562/1563 [============================>.] - ETA: 0s - loss: 1.3217 - acc: 0.5341Epoch 1/10\n",
            "5000/1563 [===============================================================================================] - 7s 1ms/sample - loss: 1.2142 - acc: 0.5396\n",
            "1563/1563 [==============================] - 260s 166ms/step - loss: 1.3216 - acc: 0.5341 - val_loss: 1.3109 - val_acc: 0.5396\n",
            "Epoch 8/10\n",
            "1562/1563 [============================>.] - ETA: 0s - loss: 1.2851 - acc: 0.5479Epoch 1/10\n",
            "5000/1563 [===============================================================================================] - 7s 1ms/sample - loss: 1.2235 - acc: 0.5602\n",
            "1563/1563 [==============================] - 254s 163ms/step - loss: 1.2850 - acc: 0.5480 - val_loss: 1.2413 - val_acc: 0.5602\n",
            "Epoch 9/10\n",
            "1562/1563 [============================>.] - ETA: 0s - loss: 1.2516 - acc: 0.5602Epoch 1/10\n",
            "5000/1563 [===============================================================================================] - 7s 1ms/sample - loss: 1.0542 - acc: 0.5868\n",
            "1563/1563 [==============================] - 250s 160ms/step - loss: 1.2518 - acc: 0.5600 - val_loss: 1.1743 - val_acc: 0.5868\n",
            "Epoch 10/10\n",
            "1562/1563 [============================>.] - ETA: 0s - loss: 1.2213 - acc: 0.5715Epoch 1/10\n",
            "5000/1563 [===============================================================================================] - 7s 1ms/sample - loss: 1.0857 - acc: 0.5910\n",
            "1563/1563 [==============================] - 253s 162ms/step - loss: 1.2213 - acc: 0.5716 - val_loss: 1.1800 - val_acc: 0.5910\n"
          ],
          "name": "stdout"
        },
        {
          "output_type": "execute_result",
          "data": {
            "text/plain": [
              "<tensorflow.python.keras.callbacks.History at 0x7ff754c6cf28>"
            ]
          },
          "metadata": {
            "tags": []
          },
          "execution_count": 56
        }
      ]
    },
    {
      "cell_type": "code",
      "metadata": {
        "id": "fDnr233SLwsS",
        "colab_type": "code",
        "colab": {}
      },
      "source": [
        ""
      ],
      "execution_count": 0,
      "outputs": []
    },
    {
      "cell_type": "code",
      "metadata": {
        "id": "uGLK7_sXWBc9",
        "colab_type": "code",
        "colab": {}
      },
      "source": [
        "from tensorflow.keras.layers import Activation, Dropout"
      ],
      "execution_count": 0,
      "outputs": []
    },
    {
      "cell_type": "code",
      "metadata": {
        "colab_type": "code",
        "id": "yNoIiK48LxBI",
        "colab": {}
      },
      "source": [
        "wtDecay = 1e-4\n",
        "def get_model():\n",
        "    \n",
        "    model = tf.keras.models.Sequential()\n",
        "    \n",
        "    model.add(Conv2D(filters=32, kernel_size=(3,3), padding='same', input_shape=(32, 32, 3), activation='elu', kernel_regularizer= l2(1e-4)))\n",
        "    #model.add(Activation('elu'))\n",
        "    model.add(BatchNormalization())\n",
        "    model.add(Conv2D(32, (3,3), padding='same', activation='elu', kernel_regularizer=l2(wtDecay)))\n",
        "    #model.add(Activation('elu'))\n",
        "    model.add(BatchNormalization())\n",
        "    model.add(MaxPooling2D(pool_size=(2,2)))\n",
        "    model.add(Dropout(0.2))\n",
        "    \n",
        "    model.add(Conv2D(64, (3,3), padding='same', activation='elu', kernel_regularizer= l2(wtDecay)))\n",
        "    #model.add(Activation('elu'))\n",
        "    model.add(BatchNormalization())\n",
        "    model.add(Conv2D(64, (3,3), padding='same', activation='elu', kernel_regularizer= l2(wtDecay)))\n",
        "    #model.add(Activation('elu'))\n",
        "    model.add(BatchNormalization())\n",
        "    model.add(MaxPooling2D(pool_size=(2,2)))\n",
        "    model.add(Dropout(0.3))\n",
        "    \n",
        "    model.add(Conv2D(128, (3,3), padding='same', activation='elu', kernel_regularizer= l2(wtDecay)))\n",
        "    #model.add(Activation('elu'))\n",
        "    model.add(BatchNormalization())\n",
        "    model.add(Conv2D(128, (3,3), padding='same', activation='elu', kernel_regularizer= l2(wtDecay)))\n",
        "    #model.add(Activation('elu'))\n",
        "    model.add(BatchNormalization())\n",
        "    model.add(MaxPooling2D(pool_size=(2,2)))\n",
        "    model.add(Dropout(0.4))\n",
        "    \n",
        "    model.add(Flatten())\n",
        "    model.add(Dense(num_classes, activation='softmax'))\n",
        " \n",
        "    \n",
        "    print('Model initialized. Please compile before training.')\n",
        "    \n",
        "    return model"
      ],
      "execution_count": 0,
      "outputs": []
    },
    {
      "cell_type": "code",
      "metadata": {
        "colab_type": "code",
        "id": "7jDJZDl6UM2P",
        "colab": {}
      },
      "source": [
        "# Hyperparameters\n",
        "hparams = HParams(\n",
        "    n_classes=10,  # number of different classes in dataset\n",
        "    learning_rate=1e-3,  # fixed learning rate\n",
        "    train_batch_size=128,  # training batch size\n",
        "    val_batch_size=128,  # validation batch size\n",
        "    test_batch_size=128,  # testing batch size\n",
        "    n_epochs=30,  # number of epochs to train\n",
        "    input_name='input_1',  # name of the input tensor for first layer of Keras model\n",
        "    data_dir='/tmp/cifar-data/',  # path to data directory\n",
        "    checkpoint_dir='/tmp/checkpoints/'  # path to model checkpoint directory\n",
        ")"
      ],
      "execution_count": 0,
      "outputs": []
    },
    {
      "cell_type": "code",
      "metadata": {
        "colab_type": "code",
        "outputId": "a1c80d97-bcb2-479d-d245-7f0149bc928a",
        "id": "QXt5u4jrVec0",
        "colab": {
          "base_uri": "https://localhost:8080/",
          "height": 104
        }
      },
      "source": [
        "modelAdamax = get_model()"
      ],
      "execution_count": 21,
      "outputs": [
        {
          "output_type": "stream",
          "text": [
            "WARNING:tensorflow:From /usr/local/lib/python3.6/dist-packages/tensorflow_core/python/ops/resource_variable_ops.py:1630: calling BaseResourceVariable.__init__ (from tensorflow.python.ops.resource_variable_ops) with constraint is deprecated and will be removed in a future version.\n",
            "Instructions for updating:\n",
            "If using Keras pass *_constraint arguments to layers.\n",
            "Model initialized. Please compile before training.\n"
          ],
          "name": "stdout"
        }
      ]
    },
    {
      "cell_type": "code",
      "metadata": {
        "colab_type": "code",
        "outputId": "ea2d5f8c-7bfe-4f02-c3a5-8f909eaf32eb",
        "id": "MJRaaqvpVqYj",
        "colab": {
          "base_uri": "https://localhost:8080/",
          "height": 823
        }
      },
      "source": [
        "modelAdamax.summary()\n",
        "adamaxPlain = Adamax(learning_rate=hparams.learning_rate)\n",
        "modelAdamax.compile(loss='sparse_categorical_crossentropy', optimizer=adamaxPlain, metrics=['accuracy'])"
      ],
      "execution_count": 22,
      "outputs": [
        {
          "output_type": "stream",
          "text": [
            "Model: \"sequential\"\n",
            "_________________________________________________________________\n",
            "Layer (type)                 Output Shape              Param #   \n",
            "=================================================================\n",
            "conv2d (Conv2D)              (None, 32, 32, 32)        896       \n",
            "_________________________________________________________________\n",
            "batch_normalization (BatchNo (None, 32, 32, 32)        128       \n",
            "_________________________________________________________________\n",
            "conv2d_1 (Conv2D)            (None, 32, 32, 32)        9248      \n",
            "_________________________________________________________________\n",
            "batch_normalization_1 (Batch (None, 32, 32, 32)        128       \n",
            "_________________________________________________________________\n",
            "max_pooling2d (MaxPooling2D) (None, 16, 16, 32)        0         \n",
            "_________________________________________________________________\n",
            "dropout (Dropout)            (None, 16, 16, 32)        0         \n",
            "_________________________________________________________________\n",
            "conv2d_2 (Conv2D)            (None, 16, 16, 64)        18496     \n",
            "_________________________________________________________________\n",
            "batch_normalization_2 (Batch (None, 16, 16, 64)        256       \n",
            "_________________________________________________________________\n",
            "conv2d_3 (Conv2D)            (None, 16, 16, 64)        36928     \n",
            "_________________________________________________________________\n",
            "batch_normalization_3 (Batch (None, 16, 16, 64)        256       \n",
            "_________________________________________________________________\n",
            "max_pooling2d_1 (MaxPooling2 (None, 8, 8, 64)          0         \n",
            "_________________________________________________________________\n",
            "dropout_1 (Dropout)          (None, 8, 8, 64)          0         \n",
            "_________________________________________________________________\n",
            "conv2d_4 (Conv2D)            (None, 8, 8, 128)         73856     \n",
            "_________________________________________________________________\n",
            "batch_normalization_4 (Batch (None, 8, 8, 128)         512       \n",
            "_________________________________________________________________\n",
            "conv2d_5 (Conv2D)            (None, 8, 8, 128)         147584    \n",
            "_________________________________________________________________\n",
            "batch_normalization_5 (Batch (None, 8, 8, 128)         512       \n",
            "_________________________________________________________________\n",
            "max_pooling2d_2 (MaxPooling2 (None, 4, 4, 128)         0         \n",
            "_________________________________________________________________\n",
            "dropout_2 (Dropout)          (None, 4, 4, 128)         0         \n",
            "_________________________________________________________________\n",
            "flatten (Flatten)            (None, 2048)              0         \n",
            "_________________________________________________________________\n",
            "dense (Dense)                (None, 10)                20490     \n",
            "=================================================================\n",
            "Total params: 309,290\n",
            "Trainable params: 308,394\n",
            "Non-trainable params: 896\n",
            "_________________________________________________________________\n"
          ],
          "name": "stdout"
        }
      ]
    },
    {
      "cell_type": "code",
      "metadata": {
        "id": "9p_cypUcbFhO",
        "colab_type": "code",
        "colab": {}
      },
      "source": [
        "datagen.fit(x_train)"
      ],
      "execution_count": 0,
      "outputs": []
    },
    {
      "cell_type": "code",
      "metadata": {
        "colab_type": "code",
        "outputId": "20c672ba-e2a5-47b5-de51-c53ee2e7e3e2",
        "id": "35-YjT3ObLnp",
        "colab": {
          "base_uri": "https://localhost:8080/",
          "height": 1000
        }
      },
      "source": [
        "historyAdamax= modelAdamax.fit_generator(\n",
        "    datagen.flow(x_train, y_train,batch_size=hparams.train_batch_size),\n",
        "    epochs=hparams.n_epochs,\n",
        "    validation_data=(x_val, y_val),\n",
        "    callbacks=callbacks)\n"
      ],
      "execution_count": 24,
      "outputs": [
        {
          "output_type": "stream",
          "text": [
            "Epoch 1/30\n",
            "390/391 [============================>.] - ETA: 1s - loss: 2.0744 - acc: 0.3664Epoch 1/30\n",
            "5000/391 [===============================================================================================================================================================================================================================================================================================================================================================================================] - 13s 3ms/sample - loss: 2.5133 - acc: 0.3132\n",
            "391/391 [==============================] - 563s 1s/step - loss: 2.0732 - acc: 0.3665 - val_loss: 2.2071 - val_acc: 0.3132\n",
            "Epoch 2/30\n",
            "390/391 [============================>.] - ETA: 1s - loss: 1.5493 - acc: 0.4875Epoch 1/30\n",
            "5000/391 [===============================================================================================================================================================================================================================================================================================================================================================================================] - 13s 3ms/sample - loss: 1.5099 - acc: 0.5380\n",
            "391/391 [==============================] - 560s 1s/step - loss: 1.5488 - acc: 0.4876 - val_loss: 1.4393 - val_acc: 0.5380\n",
            "Epoch 3/30\n",
            "390/391 [============================>.] - ETA: 1s - loss: 1.3046 - acc: 0.5621Epoch 1/30\n",
            "5000/391 [===============================================================================================================================================================================================================================================================================================================================================================================================] - 13s 3ms/sample - loss: 0.9925 - acc: 0.6372\n",
            "391/391 [==============================] - 564s 1s/step - loss: 1.3045 - acc: 0.5623 - val_loss: 1.1101 - val_acc: 0.6372\n",
            "Epoch 4/30\n",
            "390/391 [============================>.] - ETA: 1s - loss: 1.1564 - acc: 0.6110Epoch 1/30\n",
            "5000/391 [===============================================================================================================================================================================================================================================================================================================================================================================================] - 13s 3ms/sample - loss: 1.2155 - acc: 0.6306\n",
            "391/391 [==============================] - 559s 1s/step - loss: 1.1565 - acc: 0.6109 - val_loss: 1.1174 - val_acc: 0.6306\n",
            "Epoch 5/30\n",
            "390/391 [============================>.] - ETA: 1s - loss: 1.0516 - acc: 0.6448Epoch 1/30\n",
            "5000/391 [===============================================================================================================================================================================================================================================================================================================================================================================================] - 13s 3ms/sample - loss: 0.8603 - acc: 0.6806\n",
            "391/391 [==============================] - 553s 1s/step - loss: 1.0513 - acc: 0.6449 - val_loss: 1.0317 - val_acc: 0.6806\n",
            "Epoch 6/30\n",
            "390/391 [============================>.] - ETA: 1s - loss: 0.9781 - acc: 0.6726Epoch 1/30\n",
            "5000/391 [===============================================================================================================================================================================================================================================================================================================================================================================================] - 13s 3ms/sample - loss: 1.1948 - acc: 0.6668\n",
            "391/391 [==============================] - 550s 1s/step - loss: 0.9781 - acc: 0.6727 - val_loss: 1.0264 - val_acc: 0.6668\n",
            "Epoch 7/30\n",
            "390/391 [============================>.] - ETA: 1s - loss: 0.9203 - acc: 0.6920Epoch 1/30\n",
            "5000/391 [===============================================================================================================================================================================================================================================================================================================================================================================================] - 13s 3ms/sample - loss: 1.1301 - acc: 0.6872\n",
            "391/391 [==============================] - 553s 1s/step - loss: 0.9200 - acc: 0.6920 - val_loss: 0.9633 - val_acc: 0.6872\n",
            "Epoch 8/30\n",
            "390/391 [============================>.] - ETA: 1s - loss: 0.8805 - acc: 0.7081Epoch 1/30\n",
            "5000/391 [===============================================================================================================================================================================================================================================================================================================================================================================================] - 13s 3ms/sample - loss: 0.8069 - acc: 0.7360\n",
            "391/391 [==============================] - 552s 1s/step - loss: 0.8798 - acc: 0.7082 - val_loss: 0.8172 - val_acc: 0.7360\n",
            "Epoch 9/30\n",
            "390/391 [============================>.] - ETA: 1s - loss: 0.8410 - acc: 0.7206Epoch 1/30\n",
            "5000/391 [===============================================================================================================================================================================================================================================================================================================================================================================================] - 13s 3ms/sample - loss: 0.9584 - acc: 0.7312\n",
            "391/391 [==============================] - 553s 1s/step - loss: 0.8410 - acc: 0.7207 - val_loss: 0.8806 - val_acc: 0.7312\n",
            "Epoch 10/30\n",
            "390/391 [============================>.] - ETA: 1s - loss: 0.7984 - acc: 0.7354Epoch 1/30\n",
            "5000/391 [===============================================================================================================================================================================================================================================================================================================================================================================================] - 13s 3ms/sample - loss: 0.7884 - acc: 0.7528\n",
            "391/391 [==============================] - 552s 1s/step - loss: 0.7979 - acc: 0.7355 - val_loss: 0.7871 - val_acc: 0.7528\n",
            "Epoch 11/30\n",
            "390/391 [============================>.] - ETA: 1s - loss: 0.7761 - acc: 0.7448Epoch 1/30\n",
            "5000/391 [===============================================================================================================================================================================================================================================================================================================================================================================================] - 13s 3ms/sample - loss: 0.7351 - acc: 0.7626\n",
            "391/391 [==============================] - 550s 1s/step - loss: 0.7761 - acc: 0.7448 - val_loss: 0.7268 - val_acc: 0.7626\n",
            "Epoch 12/30\n",
            "390/391 [============================>.] - ETA: 1s - loss: 0.7510 - acc: 0.7532Epoch 1/30\n",
            "5000/391 [===============================================================================================================================================================================================================================================================================================================================================================================================] - 13s 3ms/sample - loss: 0.7157 - acc: 0.7676\n",
            "391/391 [==============================] - 551s 1s/step - loss: 0.7509 - acc: 0.7533 - val_loss: 0.7083 - val_acc: 0.7676\n",
            "Epoch 13/30\n",
            "390/391 [============================>.] - ETA: 1s - loss: 0.7187 - acc: 0.7655Epoch 1/30\n",
            "5000/391 [===============================================================================================================================================================================================================================================================================================================================================================================================] - 13s 3ms/sample - loss: 0.5679 - acc: 0.7760\n",
            "391/391 [==============================] - 551s 1s/step - loss: 0.7189 - acc: 0.7654 - val_loss: 0.6993 - val_acc: 0.7760\n",
            "Epoch 14/30\n",
            "390/391 [============================>.] - ETA: 1s - loss: 0.6984 - acc: 0.7736Epoch 1/30\n",
            "5000/391 [===============================================================================================================================================================================================================================================================================================================================================================================================] - 13s 3ms/sample - loss: 0.6196 - acc: 0.7712\n",
            "391/391 [==============================] - 551s 1s/step - loss: 0.6983 - acc: 0.7737 - val_loss: 0.7063 - val_acc: 0.7712\n",
            "Epoch 15/30\n",
            "390/391 [============================>.] - ETA: 1s - loss: 0.6828 - acc: 0.7786Epoch 1/30\n",
            "5000/391 [===============================================================================================================================================================================================================================================================================================================================================================================================] - 13s 3ms/sample - loss: 0.4931 - acc: 0.7842\n",
            "391/391 [==============================] - 548s 1s/step - loss: 0.6826 - acc: 0.7785 - val_loss: 0.6744 - val_acc: 0.7842\n",
            "Epoch 16/30\n",
            "390/391 [============================>.] - ETA: 1s - loss: 0.6616 - acc: 0.7898Epoch 1/30\n",
            "5000/391 [===============================================================================================================================================================================================================================================================================================================================================================================================] - 13s 3ms/sample - loss: 0.5797 - acc: 0.7924\n",
            "391/391 [==============================] - 548s 1s/step - loss: 0.6618 - acc: 0.7897 - val_loss: 0.6487 - val_acc: 0.7924\n",
            "Epoch 17/30\n",
            "390/391 [============================>.] - ETA: 1s - loss: 0.6468 - acc: 0.7911Epoch 1/30\n",
            "5000/391 [===============================================================================================================================================================================================================================================================================================================================================================================================] - 13s 3ms/sample - loss: 0.8030 - acc: 0.7736\n",
            "391/391 [==============================] - 546s 1s/step - loss: 0.6467 - acc: 0.7911 - val_loss: 0.7608 - val_acc: 0.7736\n",
            "Epoch 18/30\n",
            "390/391 [============================>.] - ETA: 1s - loss: 0.6365 - acc: 0.7970Epoch 1/30\n",
            "5000/391 [===============================================================================================================================================================================================================================================================================================================================================================================================] - 13s 3ms/sample - loss: 0.5350 - acc: 0.8052\n",
            "391/391 [==============================] - 545s 1s/step - loss: 0.6364 - acc: 0.7970 - val_loss: 0.6125 - val_acc: 0.8052\n",
            "Epoch 19/30\n",
            "390/391 [============================>.] - ETA: 1s - loss: 0.6212 - acc: 0.8027Epoch 1/30\n",
            "5000/391 [===============================================================================================================================================================================================================================================================================================================================================================================================] - 13s 3ms/sample - loss: 0.4461 - acc: 0.8240\n",
            "391/391 [==============================] - 546s 1s/step - loss: 0.6212 - acc: 0.8027 - val_loss: 0.5635 - val_acc: 0.8240\n",
            "Epoch 20/30\n",
            "390/391 [============================>.] - ETA: 1s - loss: 0.6118 - acc: 0.8040Epoch 1/30\n",
            "5000/391 [===============================================================================================================================================================================================================================================================================================================================================================================================] - 13s 3ms/sample - loss: 0.5446 - acc: 0.8030\n",
            "391/391 [==============================] - 548s 1s/step - loss: 0.6118 - acc: 0.8041 - val_loss: 0.6593 - val_acc: 0.8030\n",
            "Epoch 21/30\n",
            "390/391 [============================>.] - ETA: 1s - loss: 0.5957 - acc: 0.8084Epoch 1/30\n",
            "5000/391 [===============================================================================================================================================================================================================================================================================================================================================================================================] - 13s 3ms/sample - loss: 0.4543 - acc: 0.8206\n",
            "391/391 [==============================] - 542s 1s/step - loss: 0.5956 - acc: 0.8084 - val_loss: 0.5730 - val_acc: 0.8206\n",
            "Epoch 22/30\n",
            "390/391 [============================>.] - ETA: 1s - loss: 0.5840 - acc: 0.8145Epoch 1/30\n",
            "5000/391 [===============================================================================================================================================================================================================================================================================================================================================================================================] - 13s 3ms/sample - loss: 0.3979 - acc: 0.8226\n",
            "391/391 [==============================] - 542s 1s/step - loss: 0.5844 - acc: 0.8143 - val_loss: 0.5556 - val_acc: 0.8226\n",
            "Epoch 23/30\n",
            "390/391 [============================>.] - ETA: 1s - loss: 0.5758 - acc: 0.8182Epoch 1/30\n",
            "5000/391 [===============================================================================================================================================================================================================================================================================================================================================================================================] - 13s 3ms/sample - loss: 0.4224 - acc: 0.8194\n",
            "391/391 [==============================] - 544s 1s/step - loss: 0.5759 - acc: 0.8180 - val_loss: 0.5804 - val_acc: 0.8194\n",
            "Epoch 24/30\n",
            "390/391 [============================>.] - ETA: 1s - loss: 0.5686 - acc: 0.8204Epoch 1/30\n",
            "5000/391 [===============================================================================================================================================================================================================================================================================================================================================================================================] - 13s 3ms/sample - loss: 0.3457 - acc: 0.8342\n",
            "391/391 [==============================] - 545s 1s/step - loss: 0.5685 - acc: 0.8205 - val_loss: 0.5303 - val_acc: 0.8342\n",
            "Epoch 25/30\n",
            "390/391 [============================>.] - ETA: 1s - loss: 0.5589 - acc: 0.8230Epoch 1/30\n",
            "5000/391 [===============================================================================================================================================================================================================================================================================================================================================================================================] - 13s 3ms/sample - loss: 0.4317 - acc: 0.8196\n",
            "391/391 [==============================] - 547s 1s/step - loss: 0.5589 - acc: 0.8231 - val_loss: 0.5730 - val_acc: 0.8196\n",
            "Epoch 26/30\n",
            "390/391 [============================>.] - ETA: 1s - loss: 0.5430 - acc: 0.8285Epoch 1/30\n",
            "5000/391 [===============================================================================================================================================================================================================================================================================================================================================================================================] - 13s 3ms/sample - loss: 0.4769 - acc: 0.8246\n",
            "391/391 [==============================] - 550s 1s/step - loss: 0.5432 - acc: 0.8284 - val_loss: 0.5665 - val_acc: 0.8246\n",
            "Epoch 27/30\n",
            "390/391 [============================>.] - ETA: 1s - loss: 0.5427 - acc: 0.8292Epoch 1/30\n",
            "5000/391 [===============================================================================================================================================================================================================================================================================================================================================================================================] - 13s 3ms/sample - loss: 0.4634 - acc: 0.8244\n",
            "391/391 [==============================] - 551s 1s/step - loss: 0.5426 - acc: 0.8293 - val_loss: 0.5645 - val_acc: 0.8244\n",
            "Epoch 28/30\n",
            "390/391 [============================>.] - ETA: 1s - loss: 0.5329 - acc: 0.8346Epoch 1/30\n",
            "5000/391 [===============================================================================================================================================================================================================================================================================================================================================================================================] - 13s 3ms/sample - loss: 0.4397 - acc: 0.8374\n",
            "391/391 [==============================] - 550s 1s/step - loss: 0.5331 - acc: 0.8344 - val_loss: 0.5294 - val_acc: 0.8374\n",
            "Epoch 29/30\n",
            "390/391 [============================>.] - ETA: 1s - loss: 0.5227 - acc: 0.8382Epoch 1/30\n",
            "5000/391 [===============================================================================================================================================================================================================================================================================================================================================================================================] - 13s 3ms/sample - loss: 0.4556 - acc: 0.8370\n",
            "391/391 [==============================] - 551s 1s/step - loss: 0.5224 - acc: 0.8383 - val_loss: 0.5269 - val_acc: 0.8370\n",
            "Epoch 30/30\n",
            "390/391 [============================>.] - ETA: 1s - loss: 0.5169 - acc: 0.8398Epoch 1/30\n",
            "5000/391 [===============================================================================================================================================================================================================================================================================================================================================================================================] - 13s 3ms/sample - loss: 0.4011 - acc: 0.8468\n",
            "391/391 [==============================] - 552s 1s/step - loss: 0.5169 - acc: 0.8398 - val_loss: 0.5050 - val_acc: 0.8468\n"
          ],
          "name": "stdout"
        },
        {
          "output_type": "execute_result",
          "data": {
            "text/plain": [
              "<tensorflow.python.keras.callbacks.History at 0x7f7b82e79a58>"
            ]
          },
          "metadata": {
            "tags": []
          },
          "execution_count": 24
        }
      ]
    },
    {
      "cell_type": "code",
      "metadata": {
        "id": "gCkP03BYmOU-",
        "colab_type": "code",
        "colab": {}
      },
      "source": [
        "# \n",
        "plt.plot( historyAdamax.history['acc'])\n",
        "plt.plot( historyAdamax.history['val_acc'])\n",
        "plt.title('SGD - Accuracy')\n",
        "plt.ylabel('accuracy')\n",
        "plt.xlabel('epoch')\n",
        "plt.legend(['train', 'val'])\n",
        "#plt.savefig('SGD-Accuracy.jpg')\n",
        "plt.show()\n",
        "\n",
        "print()\n",
        "print()\n",
        "\n",
        "plt.plot( historyAdamax.history['loss'])\n",
        "plt.plot( historyAdamax.history['val_loss'])\n",
        "plt.title('SGD - Loss')\n",
        "plt.ylabel('loss')\n",
        "plt.xlabel('epoch')\n",
        "plt.legend(['train', 'val'])\n",
        "#plt.savefig('SGD-Loss.jpg')\n",
        "plt.show()\n"
      ],
      "execution_count": 0,
      "outputs": []
    },
    {
      "cell_type": "code",
      "metadata": {
        "id": "UiKRYOWPfhJs",
        "colab_type": "code",
        "colab": {}
      },
      "source": [
        "def plot_confusion_matrix(cm, classes,\n",
        "                          normalize=False,\n",
        "                          title='Confusion matrix',\n",
        "                          cmap=plt.cm.Blues):\n",
        "    \"\"\"\n",
        "    This function prints and plots the confusion matrix.\n",
        "    Normalization can be applied by setting `normalize=True`.\n",
        "    \"\"\"\n",
        "    if normalize:\n",
        "        cm = cm.astype('float') / cm.sum(axis=1)[:, np.newaxis]\n",
        "        print(\"Normalized confusion matrix\")\n",
        "    else:\n",
        "        print('Confusion matrix, without normalization')\n",
        "\n",
        "    print(cm)\n",
        "\n",
        "    plt.imshow(cm, interpolation='nearest', cmap=cmap)\n",
        "    plt.title(title)\n",
        "    plt.colorbar()\n",
        "    tick_marks = np.arange(len(classes))\n",
        "    plt.xticks(tick_marks, classes, rotation=45)\n",
        "    plt.yticks(tick_marks, classes)\n",
        "\n",
        "    fmt = '.2f' if normalize else 'd'\n",
        "    thresh = cm.max() / 2.\n",
        "    for i, j in itertools.product(range(cm.shape[0]), range(cm.shape[1])):\n",
        "        plt.text(j, i, format(cm[i, j], fmt),\n",
        "                 horizontalalignment=\"center\",\n",
        "                 color=\"white\" if cm[i, j] > thresh else \"black\")\n",
        "\n",
        "    plt.ylabel('True label')\n",
        "    plt.xlabel('Predicted label')\n",
        "    plt.tight_layout()"
      ],
      "execution_count": 0,
      "outputs": []
    },
    {
      "cell_type": "code",
      "metadata": {
        "id": "BqY-vngiRoTZ",
        "colab_type": "code",
        "colab": {
          "base_uri": "https://localhost:8080/",
          "height": 482
        },
        "outputId": "ec81aa17-0e64-41f9-b40e-10e333f31618"
      },
      "source": [
        "results = modelAdamax.predict(x_test, batch_size=hparams.test_batch_size)\n",
        "\n",
        "# convert from class probabilities to actual class predictions\n",
        "predicted_classes = np.argmax(results, axis=1)\n",
        "\n",
        "# Names of predicted classes\n",
        "class_names = [\"airplane\", \"automobile\", \"bird\", \"cat\", \"deer\", \"dog\", \"frog\", \"horse\", \"ship\", \"truck\"]\n",
        "\n",
        "# Generate the confusion matrix\n",
        "cnf_matrix = confusion_matrix(y_test, predicted_classes)\n",
        "\n",
        "# Plot non-normalized confusion matrix\n",
        "plt.figure()\n",
        "plot_confusion_matrix(cnf_matrix, classes=class_names,\n",
        "                      title='Confusion matrix, without normalization')\n",
        "\n",
        "plt.show()"
      ],
      "execution_count": 26,
      "outputs": [
        {
          "output_type": "stream",
          "text": [
            "Confusion matrix, without normalization\n",
            "[[418  11  10   0   2   2   3   3  24  15]\n",
            " [  2 473   0   1   1   0   0   0   5  23]\n",
            " [ 26   0 348  12  37  22  37  10   9  11]\n",
            " [ 12   2  10 327  29  57  32  13   5  10]\n",
            " [  4   2   8   8 440   9  19  13   3   1]\n",
            " [  9   2   8  37  20 382  10  14   1   5]\n",
            " [  5   4   7  15   7   1 444   3   3   2]\n",
            " [  5   0   1   8   9  15   5 447   2   3]\n",
            " [ 16   5   0   0   1   0   4   2 464  12]\n",
            " [ 11  14   1   0   2   0   0   0   6 479]]\n"
          ],
          "name": "stdout"
        },
        {
          "output_type": "display_data",
          "data": {
            "image/png": "[encoded data removed]",
            "text/plain": [
              "<Figure size 432x288 with 2 Axes>"
            ]
          },
          "metadata": {
            "tags": []
          }
        }
      ]
    },
    {
      "cell_type": "code",
      "metadata": {
        "id": "sYIAFf52yipF",
        "colab_type": "code",
        "outputId": "6ad987ab-5951-4c40-9115-9bf71014dba5",
        "colab": {
          "base_uri": "https://localhost:8080/",
          "height": 34
        }
      },
      "source": [
        "print(\"Test Accuracy: %.2f%%\" % (sum(y_test == predicted_classes) * 100. / y_test.shape[0]))"
      ],
      "execution_count": 27,
      "outputs": [
        {
          "output_type": "stream",
          "text": [
            "Test Accuracy: 84.44%\n"
          ],
          "name": "stdout"
        }
      ]
    },
    {
      "cell_type": "code",
      "metadata": {
        "id": "be8Bv0qg0NTG",
        "colab_type": "code",
        "colab": {}
      },
      "source": [
        "plt.plot(history_adam.history['acc'])"
      ],
      "execution_count": 0,
      "outputs": []
    }
  ]
}