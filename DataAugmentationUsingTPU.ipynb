{
  "nbformat": 4,
  "nbformat_minor": 0,
  "metadata": {
    "colab": {
      "name": "DataAugmentationUsingTPU.ipynb",
      "provenance": [],
      "collapsed_sections": []
    },
    "kernelspec": {
      "name": "python3",
      "display_name": "Python 3"
    },
    "accelerator": "TPU"
  },
  "cells": [
    {
      "cell_type": "markdown",
      "metadata": {
        "id": "gswq_sFCWLTH",
        "colab_type": "text"
      },
      "source": [
        "**Using TPUs for Cifar 10 with data augmentation**\n",
        "\n"
      ]
    },
    {
      "cell_type": "code",
      "metadata": {
        "id": "z0DRPKl39290",
        "colab_type": "code",
        "colab": {}
      },
      "source": [
        "import numpy as np\n",
        "import pickle\n",
        "import os\n",
        "import urllib\n",
        "import zipfile \n",
        "import tarfile\n",
        "from six.moves import urllib\n",
        "\n",
        "from __future__ import absolute_import\n",
        "from __future__ import division\n",
        "from __future__ import print_function\n",
        "\n",
        "# tensorflow imports\n",
        "import tensorflow as tf\n",
        "from tensorflow.contrib.training import HParams\n",
        "\n",
        "# tf.keras imports\n",
        "from tensorflow.keras import Model\n",
        "from tensorflow.keras.layers import Dense, Conv2D, Activation, Flatten\n",
        "from tensorflow.keras.layers import BatchNormalization, AveragePooling2D, Input\n",
        "from tensorflow.keras.preprocessing.image import ImageDataGenerator\n",
        "\n",
        "# import for showing the confusion matrix\n",
        "import itertools\n",
        "from sklearn.metrics import confusion_matrix\n",
        "import matplotlib.pyplot as plt\n",
        "import numpy as np"
      ],
      "execution_count": 0,
      "outputs": []
    },
    {
      "cell_type": "code",
      "metadata": {
        "id": "KZtezQ4qD-lU",
        "colab_type": "code",
        "colab": {}
      },
      "source": [
        "# Hyperparameters\n",
        "hparams = HParams(\n",
        "    n_classes=10,  # number of different classes in dataset\n",
        "    learning_rate=1e-3,  # fixed learning rate\n",
        "    train_batch_size=128,  # training batch size\n",
        "    val_batch_size=128,  # validation batch size\n",
        "    test_batch_size=128,  # testing batch size\n",
        "    n_epochs=30,  # number of epochs to train\n",
        "    input_name='input_1',  # name of the input tensor for first layer of Keras model\n",
        "    data_dir='/tmp/cifar-data/',  # path to data directory\n",
        "    checkpoint_dir='/tmp/checkpoints/'  # path to model checkpoint directory\n",
        ")"
      ],
      "execution_count": 0,
      "outputs": []
    },
    {
      "cell_type": "code",
      "metadata": {
        "id": "L35DdtT_FOXP",
        "colab_type": "code",
        "outputId": "7b6ce3e4-5e86-4112-d6c3-75484be5f134",
        "colab": {
          "base_uri": "https://localhost:8080/",
          "height": 235
        }
      },
      "source": [
        "! wget https://bin.equinox.io/c/4VmDzA7iaHb/ngrok-stable-linux-amd64.zip\n",
        "! unzip -o ngrok-stable-linux-amd64.zip"
      ],
      "execution_count": 4,
      "outputs": [
        {
          "output_type": "stream",
          "text": [
            "--2019-10-14 22:11:18--  https://bin.equinox.io/c/4VmDzA7iaHb/ngrok-stable-linux-amd64.zip\n",
            "Resolving bin.equinox.io (bin.equinox.io)... 34.237.203.145, 52.0.192.127, 3.225.172.191, ...\n",
            "Connecting to bin.equinox.io (bin.equinox.io)|34.237.203.145|:443... connected.\n",
            "HTTP request sent, awaiting response... 200 OK\n",
            "Length: 13773305 (13M) [application/octet-stream]\n",
            "Saving to: ‘ngrok-stable-linux-amd64.zip’\n",
            "\n",
            "ngrok-stable-linux- 100%[===================>]  13.13M  37.4MB/s    in 0.4s    \n",
            "\n",
            "2019-10-14 22:11:19 (37.4 MB/s) - ‘ngrok-stable-linux-amd64.zip’ saved [13773305/13773305]\n",
            "\n",
            "Archive:  ngrok-stable-linux-amd64.zip\n",
            "  inflating: ngrok                   \n"
          ],
          "name": "stdout"
        }
      ]
    },
    {
      "cell_type": "code",
      "metadata": {
        "id": "Gr-diEBYRrLC",
        "colab_type": "code",
        "outputId": "bddde3da-17f3-4dbe-aeef-1087419dba2a",
        "colab": {
          "base_uri": "https://localhost:8080/",
          "height": 235
        }
      },
      "source": [
        "import os\n",
        "import pprint\n",
        "import tensorflow as tf\n",
        "\n",
        "if 'COLAB_TPU_ADDR' not in os.environ:\n",
        "  print('ERROR: Not connected to a TPU runtime; please see the first cell in this notebook for instructions!')\n",
        "else:\n",
        "  tpu_address = 'grpc://' + os.environ['COLAB_TPU_ADDR']\n",
        "  print ('TPU address is', tpu_address)\n",
        "\n",
        "  with tf.Session(tpu_address) as session:\n",
        "    devices = session.list_devices()\n",
        "    \n",
        "  print('TPU devices:')\n",
        "  pprint.pprint(devices)"
      ],
      "execution_count": 5,
      "outputs": [
        {
          "output_type": "stream",
          "text": [
            "TPU address is grpc://10.8.232.90:8470\n",
            "TPU devices:\n",
            "[_DeviceAttributes(/job:tpu_worker/replica:0/task:0/device:CPU:0, CPU, -1, 1837319854293492189),\n",
            " _DeviceAttributes(/job:tpu_worker/replica:0/task:0/device:XLA_CPU:0, XLA_CPU, 17179869184, 17534414249151760406),\n",
            " _DeviceAttributes(/job:tpu_worker/replica:0/task:0/device:TPU:0, TPU, 17179869184, 16161062865994166635),\n",
            " _DeviceAttributes(/job:tpu_worker/replica:0/task:0/device:TPU:1, TPU, 17179869184, 2470834446237956894),\n",
            " _DeviceAttributes(/job:tpu_worker/replica:0/task:0/device:TPU:2, TPU, 17179869184, 11914336050628112686),\n",
            " _DeviceAttributes(/job:tpu_worker/replica:0/task:0/device:TPU:3, TPU, 17179869184, 15515206209737520813),\n",
            " _DeviceAttributes(/job:tpu_worker/replica:0/task:0/device:TPU:4, TPU, 17179869184, 4969312663439491349),\n",
            " _DeviceAttributes(/job:tpu_worker/replica:0/task:0/device:TPU:5, TPU, 17179869184, 13625741335244576925),\n",
            " _DeviceAttributes(/job:tpu_worker/replica:0/task:0/device:TPU:6, TPU, 17179869184, 17906527382440068114),\n",
            " _DeviceAttributes(/job:tpu_worker/replica:0/task:0/device:TPU:7, TPU, 17179869184, 3080679364360521440),\n",
            " _DeviceAttributes(/job:tpu_worker/replica:0/task:0/device:TPU_SYSTEM:0, TPU_SYSTEM, 8589934592, 7437129688082455384)]\n"
          ],
          "name": "stdout"
        }
      ]
    },
    {
      "cell_type": "code",
      "metadata": {
        "id": "YwZrIjZkEEYu",
        "colab_type": "code",
        "outputId": "9bd5dbfb-e3ce-41b8-a5a9-3d3e1c41f1cd",
        "colab": {
          "base_uri": "https://localhost:8080/",
          "height": 50
        }
      },
      "source": [
        "# kill all running ngrok instances\n",
        "!pkill -f ngrok\n",
        "\n",
        "# Execute tensorboard\n",
        "!rm rf /tmp/checkpoints\n",
        "!mkdir /tmp/checkpoints\n",
        "LOG_DIR = '/tmp/checkpoints/'\n",
        "get_ipython().system_raw(\n",
        "    'tensorboard --logdir {} --host 0.0.0.0 --port 6006 &'\n",
        "    .format(LOG_DIR)\n",
        ")\n",
        "\n",
        "# execute ngrok\n",
        "get_ipython().system_raw('./ngrok http 6006 &')"
      ],
      "execution_count": 6,
      "outputs": [
        {
          "output_type": "stream",
          "text": [
            "rm: cannot remove 'rf': No such file or directory\n",
            "rm: cannot remove '/tmp/checkpoints': No such file or directory\n"
          ],
          "name": "stdout"
        }
      ]
    },
    {
      "cell_type": "code",
      "metadata": {
        "id": "3Imio4YREFzg",
        "colab_type": "code",
        "outputId": "c0a7f527-8cbb-4008-84c1-bddacb938076",
        "colab": {
          "base_uri": "https://localhost:8080/",
          "height": 34
        }
      },
      "source": [
        "# Do the tunneling\n",
        "! curl -s http://localhost:4040/api/tunnels | python3 -c \\\n",
        "    \"import sys, json; print(json.load(sys.stdin)['tunnels'][0]['public_url'])\""
      ],
      "execution_count": 7,
      "outputs": [
        {
          "output_type": "stream",
          "text": [
            "https://fc46576e.ngrok.io\n"
          ],
          "name": "stdout"
        }
      ]
    },
    {
      "cell_type": "code",
      "metadata": {
        "id": "2EpQ-iJN94G1",
        "colab_type": "code",
        "colab": {}
      },
      "source": [
        "# URL for the data-set on the internet.\n",
        "data_url = \"https://www.cs.toronto.edu/~kriz/cifar-10-python.tar.gz\"\n",
        "\n",
        "# Width and height of each image.\n",
        "img_size = 32\n",
        "\n",
        "# Number of channels in each image, 3 channels: Red, Green, Blue.\n",
        "num_channels = 3\n",
        "\n",
        "# Length of an image when flattened to a 1-dim array.\n",
        "img_size_flat = img_size * img_size * num_channels\n",
        "\n",
        "# Number of classes.\n",
        "num_classes = hparams.n_classes\n",
        "\n",
        "########################################################################\n",
        "# Various constants used to allocate arrays of the correct size.\n",
        "\n",
        "# Number of files for the training-set.\n",
        "_num_files_train = 5\n",
        "\n",
        "# Number of images for each batch-file in the training-set.\n",
        "_images_per_file = 10000\n",
        "\n",
        "# Total number of images in the training-set.\n",
        "# This is used to pre-allocate arrays for efficiency.\n",
        "_num_images_train = _num_files_train * _images_per_file\n",
        "\n",
        "########################################################################\n",
        "# Private functions for downloading, unpacking and loading data-files.\n",
        "\n",
        "\n",
        "def download(base_url, filename, download_dir):\n",
        "    \"\"\"\n",
        "    Download the given file if it does not already exist in the download_dir.\n",
        "    :param base_url: The internet URL without the filename.\n",
        "    :param filename: The filename that will be added to the base_url.\n",
        "    :param download_dir: Local directory for storing the file.\n",
        "    :return: Nothing.\n",
        "    \"\"\"\n",
        "\n",
        "    # Path for local file.\n",
        "    save_path = os.path.join(download_dir, filename)\n",
        "\n",
        "    # Check if the file already exists, otherwise we need to download it now.\n",
        "    if not os.path.exists(save_path):\n",
        "        # Check if the download directory exists, otherwise create it.\n",
        "        if not os.path.exists(download_dir):\n",
        "            os.makedirs(download_dir)\n",
        "\n",
        "        print(\"Downloading\", filename, \"...\")\n",
        "\n",
        "        # Download the file from the internet.\n",
        "        url = base_url + filename\n",
        "        file_path, _ = urllib.request.urlretrieve(url=url,\n",
        "                                                  filename=save_path)\n",
        "\n",
        "        print(\" Done!\")\n",
        "\n",
        "\n",
        "def maybe_download_and_extract(url=data_url, download_dir=hparams.data_dir):\n",
        "    \"\"\"\n",
        "    Download and extract the data if it doesn't already exist.\n",
        "    Assumes the url is a tar-ball file.\n",
        "    :param url:\n",
        "        Internet URL for the tar-file to download.\n",
        "        Example: \"https://www.cs.toronto.edu/~kriz/cifar-10-python.tar.gz\"\n",
        "    :param download_dir:\n",
        "        Directory where the downloaded file is saved.\n",
        "        Example: \"data/CIFAR-10/\"\n",
        "    :return:\n",
        "        Nothing.\n",
        "    \"\"\"\n",
        "\n",
        "    # Filename for saving the file downloaded from the internet.\n",
        "    # Use the filename from the URL and add it to the download_dir.\n",
        "    filename = url.split('/')[-1]\n",
        "    file_path = os.path.join(download_dir, filename)\n",
        "\n",
        "    # Check if the file already exists.\n",
        "    # If it exists then we assume it has also been extracted,\n",
        "    # otherwise we need to download and extract it now.\n",
        "    if not os.path.exists(file_path):\n",
        "        # Check if the download directory exists, otherwise create it.\n",
        "        if not os.path.exists(download_dir):\n",
        "            os.makedirs(download_dir)\n",
        "\n",
        "        # Download the file from the internet.\n",
        "        file_path, _ = urllib.request.urlretrieve(url=url,\n",
        "                                                  filename=file_path)\n",
        "\n",
        "        print()\n",
        "        print(\"Download finished. Extracting files.\")\n",
        "\n",
        "        if file_path.endswith(\".zip\"):\n",
        "            # Unpack the zip-file.\n",
        "            zipfile.ZipFile(file=file_path, mode=\"r\").extractall(download_dir)\n",
        "        elif file_path.endswith((\".tar.gz\", \".tgz\")):\n",
        "            # Unpack the tar-ball.\n",
        "            tarfile.open(name=file_path, mode=\"r:gz\").extractall(download_dir)\n",
        "\n",
        "        print(\"Done.\")\n",
        "    else:\n",
        "        print(\"Data has apparently already been downloaded and unpacked.\")\n",
        "\n",
        "\n",
        "def _get_file_path(filename=\"\"):\n",
        "    \"\"\"\n",
        "    Return the full path of a data-file for the data-set.\n",
        "\n",
        "    If filename==\"\" then return the directory of the files.\n",
        "    \"\"\"\n",
        "\n",
        "    return os.path.join(hparams.data_dir, \"cifar-10-batches-py/\", filename)\n",
        "\n",
        "\n",
        "def _unpickle(filename):\n",
        "    \"\"\"\n",
        "    Unpickle the given file and return the data.\n",
        "\n",
        "    Note that the appropriate dir-name is prepended the filename.\n",
        "    \"\"\"\n",
        "\n",
        "    # Create full path for the file.\n",
        "    file_path = _get_file_path(filename)\n",
        "\n",
        "    print(\"Loading data: \" + file_path)\n",
        "\n",
        "    with open(file_path, mode='rb') as file:\n",
        "        # In Python 3.X it is important to set the encoding,\n",
        "        # otherwise an exception is raised here.\n",
        "        data = pickle.load(file,encoding='bytes')\n",
        "\n",
        "    return data\n",
        "\n",
        "\n",
        "def _convert_images(raw):\n",
        "    \"\"\"\n",
        "    Convert images from the CIFAR-10 format and\n",
        "    return a 4-dim array with shape: [image_number, height, width, channel]\n",
        "    where the pixels are floats between 0.0 and 1.0.\n",
        "    \"\"\"\n",
        "\n",
        "    # Convert the raw images from the data-files to floating-points.\n",
        "    raw_float = np.array(raw, dtype=float) / 255.0\n",
        "\n",
        "    # Reshape the array to 4-dimensions.\n",
        "    images = raw_float.reshape([-1, num_channels, img_size, img_size])\n",
        "\n",
        "    # Reorder the indices of the array.\n",
        "    images = images.transpose([0, 2, 3, 1])\n",
        "\n",
        "    return images\n",
        "\n",
        "\n",
        "def _load_data(filename):\n",
        "    \"\"\"\n",
        "    Load a pickled data-file from the CIFAR-10 data-set\n",
        "    and return the converted images (see above) and the class-number\n",
        "    for each image.\n",
        "    \"\"\"\n",
        "\n",
        "    # Load the pickled data-file.\n",
        "    data = _unpickle(filename)\n",
        "\n",
        "    # Get the raw images.\n",
        "    raw_images = data[b'data']\n",
        "\n",
        "    # Get the class-numbers for each image. Convert to numpy-array.\n",
        "    cls = np.array(data[b'labels'])\n",
        "\n",
        "    # Convert the images.\n",
        "    images = _convert_images(raw_images)\n",
        "\n",
        "    return images, cls\n",
        "\n",
        "\n",
        "def load_class_names():\n",
        "    # Load the class-names from the pickled file.\n",
        "    raw = _unpickle(filename=\"batches.meta\")[b'label_names']\n",
        "\n",
        "    # Convert from binary strings.\n",
        "    names = [x.decode('utf-8') for x in raw]\n",
        "\n",
        "    return names\n",
        "\n",
        "\n",
        "def load_training_data():\n",
        "    \"\"\"\n",
        "    Load all the training-data for the CIFAR-10 data-set.\n",
        "\n",
        "    The data-set is split into 5 data-files which are merged here.\n",
        "\n",
        "    Returns the images, class-numbers and one-hot encoded class-labels.\n",
        "    \"\"\"\n",
        "\n",
        "    # Pre-allocate the arrays for the images and class-numbers for efficiency.\n",
        "    images = np.zeros(shape=[_num_images_train, img_size, img_size, num_channels], dtype=float)\n",
        "    cls = np.zeros(shape=[_num_images_train], dtype=int)\n",
        "\n",
        "    # Begin-index for the current batch.\n",
        "    begin = 0\n",
        "\n",
        "    # For each data-file.\n",
        "    for i in range(_num_files_train):\n",
        "        # Load the images and class-numbers from the data-file.\n",
        "        images_batch, cls_batch = _load_data(filename=\"data_batch_\" + str(i + 1))\n",
        "\n",
        "        # Number of images in this batch.\n",
        "        num_images = len(images_batch)\n",
        "\n",
        "        # End-index for the current batch.\n",
        "        end = begin + num_images\n",
        "\n",
        "        # Store the images into the array.\n",
        "        images[begin:end, :] = images_batch\n",
        "\n",
        "        # Store the class-numbers into the array.\n",
        "        cls[begin:end] = cls_batch\n",
        "\n",
        "        # The begin-index for the next batch is the current end-index.\n",
        "        begin = end\n",
        "\n",
        "    return images, cls\n",
        "\n",
        "\n",
        "def load_validation_data():\n",
        "\n",
        "    images, cls = _load_data(filename=\"test_batch\")\n",
        "\n",
        "    images = images[5000:, :, :, :]\n",
        "    cls = cls[5000:]\n",
        "\n",
        "    return images, cls\n",
        "\n",
        "def load_testing_data():\n",
        "\n",
        "\n",
        "    images, cls = _load_data(filename=\"test_batch\")\n",
        "\n",
        "    images = images[:5000, :, :, :]\n",
        "    cls = cls[:5000]\n",
        "\n",
        "    return images, cls"
      ],
      "execution_count": 0,
      "outputs": []
    },
    {
      "cell_type": "code",
      "metadata": {
        "id": "wnq5ASa21gpQ",
        "colab_type": "code",
        "outputId": "2accb618-fb11-4201-f678-8e4b7f6d7516",
        "colab": {
          "base_uri": "https://localhost:8080/",
          "height": 84
        }
      },
      "source": [
        "import matplotlib.pyplot as plt\n",
        "maybe_download_and_extract()\n",
        "x_val, y_val = load_validation_data()"
      ],
      "execution_count": 9,
      "outputs": [
        {
          "output_type": "stream",
          "text": [
            "\n",
            "Download finished. Extracting files.\n",
            "Done.\n",
            "Loading data: /tmp/cifar-data/cifar-10-batches-py/test_batch\n"
          ],
          "name": "stdout"
        }
      ]
    },
    {
      "cell_type": "code",
      "metadata": {
        "id": "UsCeVdHD2jQC",
        "colab_type": "code",
        "outputId": "91a74743-eff4-4c2e-bd24-b7c790f6ff06",
        "colab": {
          "base_uri": "https://localhost:8080/",
          "height": 34
        }
      },
      "source": [
        "x_val.shape"
      ],
      "execution_count": 10,
      "outputs": [
        {
          "output_type": "execute_result",
          "data": {
            "text/plain": [
              "(5000, 32, 32, 3)"
            ]
          },
          "metadata": {
            "tags": []
          },
          "execution_count": 10
        }
      ]
    },
    {
      "cell_type": "code",
      "metadata": {
        "id": "slIg17Vi3Ipy",
        "colab_type": "code",
        "outputId": "831d4d98-f304-40b8-f018-d6d0996a3378",
        "colab": {
          "base_uri": "https://localhost:8080/",
          "height": 269
        }
      },
      "source": [
        "fig = plt.figure(figsize=(5,4))\n",
        "for i in range(3):\n",
        "    for j in range(3):\n",
        "        ax = fig.add_subplot(3, 3, i * 3 + j + 1)\n",
        "        ax.imshow(x_val[i * 3 + j])"
      ],
      "execution_count": 11,
      "outputs": [
        {
          "output_type": "display_data",
          "data": {
            "image/png": "[encoded data removed]",
            "text/plain": [
              "<Figure size 360x288 with 9 Axes>"
            ]
          },
          "metadata": {
            "tags": []
          }
        }
      ]
    },
    {
      "cell_type": "code",
      "metadata": {
        "id": "7_l65SBUziiq",
        "colab_type": "code",
        "colab": {}
      },
      "source": [
        "from tensorflow.keras.layers import MaxPooling2D\n",
        "from tensorflow.keras.optimizers import Adamax\n",
        "from tensorflow.keras.regularizers import l2\n",
        "from tensorflow.keras.layers import Activation, Dropout\n",
        "tf.logging.set_verbosity(tf.logging.DEBUG)"
      ],
      "execution_count": 0,
      "outputs": []
    },
    {
      "cell_type": "code",
      "metadata": {
        "id": "NgCt1-UzgMoo",
        "colab_type": "code",
        "outputId": "109ca86b-eeaf-47f8-ae23-2cd0c03fbfae",
        "colab": {
          "base_uri": "https://localhost:8080/",
          "height": 134
        }
      },
      "source": [
        "# training data\n",
        "x_train, y_train = load_training_data()\n",
        "\n",
        "# Validation data\n",
        "x_val, y_val = load_validation_data()\n",
        "\n",
        "# Testing data\n",
        "x_test, y_test = load_testing_data()\n",
        "\n",
        "# Define callbacks\n",
        "callbacks = [\n",
        "  tf.keras.callbacks.TensorBoard(log_dir=hparams.checkpoint_dir)\n",
        "]"
      ],
      "execution_count": 13,
      "outputs": [
        {
          "output_type": "stream",
          "text": [
            "Loading data: /tmp/cifar-data/cifar-10-batches-py/data_batch_1\n",
            "Loading data: /tmp/cifar-data/cifar-10-batches-py/data_batch_2\n",
            "Loading data: /tmp/cifar-data/cifar-10-batches-py/data_batch_3\n",
            "Loading data: /tmp/cifar-data/cifar-10-batches-py/data_batch_4\n",
            "Loading data: /tmp/cifar-data/cifar-10-batches-py/data_batch_5\n",
            "Loading data: /tmp/cifar-data/cifar-10-batches-py/test_batch\n",
            "Loading data: /tmp/cifar-data/cifar-10-batches-py/test_batch\n"
          ],
          "name": "stdout"
        }
      ]
    },
    {
      "cell_type": "code",
      "metadata": {
        "id": "XTzPFuuvgWmt",
        "colab_type": "code",
        "colab": {}
      },
      "source": [
        "# This will do preprocessing and realtime data augmentation:\n",
        "datagen = ImageDataGenerator(\n",
        "    featurewise_center=False,  # set input mean to 0 over the dataset\n",
        "    samplewise_center=False,  # set each sample mean to 0\n",
        "    featurewise_std_normalization=False,  # divide inputs by std of the dataset\n",
        "    samplewise_std_normalization=False,  # divide each input by its std\n",
        "    zca_whitening=False,  # apply ZCA whitening\n",
        "    zca_epsilon=1e-06,  # epsilon for ZCA whitening\n",
        "    rotation_range=0,  # randomly rotate images in the range (degrees, 0 to 180)\n",
        "    # randomly shift images horizontally (fraction of total width)\n",
        "    width_shift_range=0.1,\n",
        "    # randomly shift images vertically (fraction of total height)\n",
        "    height_shift_range=0.1,\n",
        "    # set mode for filling points outside the input boundaries\n",
        "    fill_mode='nearest',\n",
        "    cval=0.,  # value used for fill_mode = \"constant\"\n",
        "    horizontal_flip=True,  # randomly flip images\n",
        "    vertical_flip=False)\n",
        "\n",
        "# Compute quantities required for feature-wise normalization\n",
        "# (std, mean, and principal components if ZCA whitening is applied).\n",
        "datagen.fit(x_train)\n"
      ],
      "execution_count": 0,
      "outputs": []
    },
    {
      "cell_type": "code",
      "metadata": {
        "colab_type": "code",
        "id": "yNoIiK48LxBI",
        "colab": {}
      },
      "source": [
        "wtDecay = 1e-4\n",
        "def get_model():\n",
        "    \n",
        "    model = tf.keras.models.Sequential()\n",
        "    \n",
        "    model.add(Conv2D(filters=32, kernel_size=(3,3), padding='same', input_shape=(32, 32, 3), activation='elu', kernel_regularizer= l2(1e-4)))\n",
        "    #model.add(Activation('elu'))\n",
        "    model.add(BatchNormalization())\n",
        "    model.add(Conv2D(32, (3,3), padding='same', activation='elu', kernel_regularizer=l2(wtDecay)))\n",
        "    #model.add(Activation('elu'))\n",
        "    model.add(BatchNormalization())\n",
        "    model.add(MaxPooling2D(pool_size=(2,2)))\n",
        "    model.add(Dropout(0.2))\n",
        "    \n",
        "    model.add(Conv2D(64, (3,3), padding='same', activation='elu', kernel_regularizer= l2(wtDecay)))\n",
        "    #model.add(Activation('elu'))\n",
        "    model.add(BatchNormalization())\n",
        "    model.add(Conv2D(64, (3,3), padding='same', activation='elu', kernel_regularizer= l2(wtDecay)))\n",
        "    #model.add(Activation('elu'))\n",
        "    model.add(BatchNormalization())\n",
        "    model.add(MaxPooling2D(pool_size=(2,2)))\n",
        "    model.add(Dropout(0.3))\n",
        "    \n",
        "    model.add(Conv2D(128, (3,3), padding='same', activation='elu', kernel_regularizer= l2(wtDecay)))\n",
        "    #model.add(Activation('elu'))\n",
        "    model.add(BatchNormalization())\n",
        "    model.add(Conv2D(128, (3,3), padding='same', activation='elu', kernel_regularizer= l2(wtDecay)))\n",
        "    #model.add(Activation('elu'))\n",
        "    model.add(BatchNormalization())\n",
        "    model.add(MaxPooling2D(pool_size=(2,2)))\n",
        "    model.add(Dropout(0.4))\n",
        "    \n",
        "    model.add(Flatten())\n",
        "    model.add(Dense(num_classes, activation='softmax'))\n",
        " \n",
        "    \n",
        "    print('Model initialized. Please compile before training.')\n",
        "    \n",
        "    return model"
      ],
      "execution_count": 0,
      "outputs": []
    },
    {
      "cell_type": "code",
      "metadata": {
        "colab_type": "code",
        "outputId": "eece0beb-ec2c-4269-a71d-2e738dec4894",
        "id": "QXt5u4jrVec0",
        "colab": {
          "base_uri": "https://localhost:8080/",
          "height": 104
        }
      },
      "source": [
        "modelAdamax = get_model()"
      ],
      "execution_count": 16,
      "outputs": [
        {
          "output_type": "stream",
          "text": [
            "WARNING:tensorflow:From /usr/local/lib/python3.6/dist-packages/tensorflow_core/python/ops/resource_variable_ops.py:1630: calling BaseResourceVariable.__init__ (from tensorflow.python.ops.resource_variable_ops) with constraint is deprecated and will be removed in a future version.\n",
            "Instructions for updating:\n",
            "If using Keras pass *_constraint arguments to layers.\n",
            "Model initialized. Please compile before training.\n"
          ],
          "name": "stdout"
        }
      ]
    },
    {
      "cell_type": "code",
      "metadata": {
        "colab_type": "code",
        "outputId": "bb4ddd2f-cb78-4365-d13c-dd3f1d49e6f7",
        "id": "MJRaaqvpVqYj",
        "colab": {
          "base_uri": "https://localhost:8080/",
          "height": 823
        }
      },
      "source": [
        "modelAdamax.summary()\n",
        "adamaxPlain = Adamax(learning_rate=hparams.learning_rate)\n",
        "modelAdamax.compile(loss='sparse_categorical_crossentropy', optimizer=adamaxPlain, metrics=['accuracy'])"
      ],
      "execution_count": 17,
      "outputs": [
        {
          "output_type": "stream",
          "text": [
            "Model: \"sequential\"\n",
            "_________________________________________________________________\n",
            "Layer (type)                 Output Shape              Param #   \n",
            "=================================================================\n",
            "conv2d (Conv2D)              (None, 32, 32, 32)        896       \n",
            "_________________________________________________________________\n",
            "batch_normalization (BatchNo (None, 32, 32, 32)        128       \n",
            "_________________________________________________________________\n",
            "conv2d_1 (Conv2D)            (None, 32, 32, 32)        9248      \n",
            "_________________________________________________________________\n",
            "batch_normalization_1 (Batch (None, 32, 32, 32)        128       \n",
            "_________________________________________________________________\n",
            "max_pooling2d (MaxPooling2D) (None, 16, 16, 32)        0         \n",
            "_________________________________________________________________\n",
            "dropout (Dropout)            (None, 16, 16, 32)        0         \n",
            "_________________________________________________________________\n",
            "conv2d_2 (Conv2D)            (None, 16, 16, 64)        18496     \n",
            "_________________________________________________________________\n",
            "batch_normalization_2 (Batch (None, 16, 16, 64)        256       \n",
            "_________________________________________________________________\n",
            "conv2d_3 (Conv2D)            (None, 16, 16, 64)        36928     \n",
            "_________________________________________________________________\n",
            "batch_normalization_3 (Batch (None, 16, 16, 64)        256       \n",
            "_________________________________________________________________\n",
            "max_pooling2d_1 (MaxPooling2 (None, 8, 8, 64)          0         \n",
            "_________________________________________________________________\n",
            "dropout_1 (Dropout)          (None, 8, 8, 64)          0         \n",
            "_________________________________________________________________\n",
            "conv2d_4 (Conv2D)            (None, 8, 8, 128)         73856     \n",
            "_________________________________________________________________\n",
            "batch_normalization_4 (Batch (None, 8, 8, 128)         512       \n",
            "_________________________________________________________________\n",
            "conv2d_5 (Conv2D)            (None, 8, 8, 128)         147584    \n",
            "_________________________________________________________________\n",
            "batch_normalization_5 (Batch (None, 8, 8, 128)         512       \n",
            "_________________________________________________________________\n",
            "max_pooling2d_2 (MaxPooling2 (None, 4, 4, 128)         0         \n",
            "_________________________________________________________________\n",
            "dropout_2 (Dropout)          (None, 4, 4, 128)         0         \n",
            "_________________________________________________________________\n",
            "flatten (Flatten)            (None, 2048)              0         \n",
            "_________________________________________________________________\n",
            "dense (Dense)                (None, 10)                20490     \n",
            "=================================================================\n",
            "Total params: 309,290\n",
            "Trainable params: 308,394\n",
            "Non-trainable params: 896\n",
            "_________________________________________________________________\n"
          ],
          "name": "stdout"
        }
      ]
    },
    {
      "cell_type": "code",
      "metadata": {
        "id": "9p_cypUcbFhO",
        "colab_type": "code",
        "colab": {}
      },
      "source": [
        "datagen.fit(x_train)"
      ],
      "execution_count": 0,
      "outputs": []
    },
    {
      "cell_type": "code",
      "metadata": {
        "colab_type": "code",
        "outputId": "0e8f171a-e7f9-4266-edc7-a3441bab9855",
        "id": "35-YjT3ObLnp",
        "colab": {
          "base_uri": "https://localhost:8080/",
          "height": 1000
        }
      },
      "source": [
        "historyAdamax= modelAdamax.fit_generator(\n",
        "    datagen.flow(x_train, y_train,batch_size=hparams.train_batch_size),\n",
        "    epochs=hparams.n_epochs,\n",
        "    validation_data=(x_val, y_val),\n",
        "    callbacks=callbacks) ### could not use workers=2 as paramter to fit_generator , since runtime crashes when using multiprocessing\n"
      ],
      "execution_count": 19,
      "outputs": [
        {
          "output_type": "stream",
          "text": [
            "Epoch 1/30\n",
            "390/391 [============================>.] - ETA: 1s - loss: 2.0749 - acc: 0.3649Epoch 1/30\n",
            "5000/391 [===============================================================================================================================================================================================================================================================================================================================================================================================] - 13s 3ms/sample - loss: 1.9966 - acc: 0.3582\n",
            "391/391 [==============================] - 550s 1s/step - loss: 2.0740 - acc: 0.3652 - val_loss: 1.9451 - val_acc: 0.3582\n",
            "Epoch 2/30\n",
            "390/391 [============================>.] - ETA: 1s - loss: 1.5790 - acc: 0.4795Epoch 1/30\n",
            "5000/391 [===============================================================================================================================================================================================================================================================================================================================================================================================] - 13s 3ms/sample - loss: 1.1779 - acc: 0.5768\n",
            "391/391 [==============================] - 549s 1s/step - loss: 1.5787 - acc: 0.4796 - val_loss: 1.2768 - val_acc: 0.5768\n",
            "Epoch 3/30\n",
            "390/391 [============================>.] - ETA: 1s - loss: 1.3287 - acc: 0.5555Epoch 1/30\n",
            "5000/391 [===============================================================================================================================================================================================================================================================================================================================================================================================] - 13s 3ms/sample - loss: 1.1083 - acc: 0.6074\n",
            "391/391 [==============================] - 550s 1s/step - loss: 1.3285 - acc: 0.5557 - val_loss: 1.2267 - val_acc: 0.6074\n",
            "Epoch 4/30\n",
            "390/391 [============================>.] - ETA: 1s - loss: 1.1727 - acc: 0.6083Epoch 1/30\n",
            "5000/391 [===============================================================================================================================================================================================================================================================================================================================================================================================] - 13s 3ms/sample - loss: 0.9910 - acc: 0.6612\n",
            "391/391 [==============================] - 548s 1s/step - loss: 1.1727 - acc: 0.6083 - val_loss: 1.0737 - val_acc: 0.6612\n",
            "Epoch 5/30\n",
            "390/391 [============================>.] - ETA: 1s - loss: 1.0688 - acc: 0.6376Epoch 1/30\n",
            "5000/391 [===============================================================================================================================================================================================================================================================================================================================================================================================] - 13s 3ms/sample - loss: 0.8793 - acc: 0.6784\n",
            "391/391 [==============================] - 552s 1s/step - loss: 1.0687 - acc: 0.6376 - val_loss: 1.0215 - val_acc: 0.6784\n",
            "Epoch 6/30\n",
            "390/391 [============================>.] - ETA: 1s - loss: 0.9867 - acc: 0.6684Epoch 1/30\n",
            "5000/391 [===============================================================================================================================================================================================================================================================================================================================================================================================] - 13s 3ms/sample - loss: 0.7047 - acc: 0.7244\n",
            "391/391 [==============================] - 551s 1s/step - loss: 0.9862 - acc: 0.6685 - val_loss: 0.8408 - val_acc: 0.7244\n",
            "Epoch 7/30\n",
            "390/391 [============================>.] - ETA: 1s - loss: 0.9296 - acc: 0.6892Epoch 1/30\n",
            "5000/391 [===============================================================================================================================================================================================================================================================================================================================================================================================] - 13s 3ms/sample - loss: 0.7081 - acc: 0.7368\n",
            "391/391 [==============================] - 548s 1s/step - loss: 0.9296 - acc: 0.6891 - val_loss: 0.8132 - val_acc: 0.7368\n",
            "Epoch 8/30\n",
            "390/391 [============================>.] - ETA: 1s - loss: 0.8783 - acc: 0.7082Epoch 1/30\n",
            "5000/391 [===============================================================================================================================================================================================================================================================================================================================================================================================] - 13s 3ms/sample - loss: 0.7949 - acc: 0.7392\n",
            "391/391 [==============================] - 548s 1s/step - loss: 0.8784 - acc: 0.7081 - val_loss: 0.8148 - val_acc: 0.7392\n",
            "Epoch 9/30\n",
            "390/391 [============================>.] - ETA: 1s - loss: 0.8385 - acc: 0.7229Epoch 1/30\n",
            "5000/391 [===============================================================================================================================================================================================================================================================================================================================================================================================] - 13s 3ms/sample - loss: 0.9325 - acc: 0.7270\n",
            "391/391 [==============================] - 544s 1s/step - loss: 0.8384 - acc: 0.7230 - val_loss: 0.8637 - val_acc: 0.7270\n",
            "Epoch 10/30\n",
            "390/391 [============================>.] - ETA: 1s - loss: 0.8159 - acc: 0.7295Epoch 1/30\n",
            "5000/391 [===============================================================================================================================================================================================================================================================================================================================================================================================] - 13s 3ms/sample - loss: 0.6557 - acc: 0.7734\n",
            "391/391 [==============================] - 545s 1s/step - loss: 0.8157 - acc: 0.7297 - val_loss: 0.6987 - val_acc: 0.7734\n",
            "Epoch 11/30\n",
            "390/391 [============================>.] - ETA: 1s - loss: 0.7742 - acc: 0.7448Epoch 1/30\n",
            "5000/391 [===============================================================================================================================================================================================================================================================================================================================================================================================] - 13s 3ms/sample - loss: 0.6752 - acc: 0.7736\n",
            "391/391 [==============================] - 545s 1s/step - loss: 0.7741 - acc: 0.7448 - val_loss: 0.7089 - val_acc: 0.7736\n",
            "Epoch 12/30\n",
            "390/391 [============================>.] - ETA: 1s - loss: 0.7491 - acc: 0.7527Epoch 1/30\n",
            "5000/391 [===============================================================================================================================================================================================================================================================================================================================================================================================] - 13s 3ms/sample - loss: 0.5588 - acc: 0.7816\n",
            "391/391 [==============================] - 544s 1s/step - loss: 0.7491 - acc: 0.7528 - val_loss: 0.6786 - val_acc: 0.7816\n",
            "Epoch 13/30\n",
            "390/391 [============================>.] - ETA: 1s - loss: 0.7312 - acc: 0.7610Epoch 1/30\n",
            "5000/391 [===============================================================================================================================================================================================================================================================================================================================================================================================] - 13s 3ms/sample - loss: 0.5016 - acc: 0.7898\n",
            "391/391 [==============================] - 542s 1s/step - loss: 0.7314 - acc: 0.7609 - val_loss: 0.6722 - val_acc: 0.7898\n",
            "Epoch 14/30\n",
            "390/391 [============================>.] - ETA: 1s - loss: 0.7075 - acc: 0.7704Epoch 1/30\n",
            "5000/391 [===============================================================================================================================================================================================================================================================================================================================================================================================] - 13s 3ms/sample - loss: 0.5683 - acc: 0.7934\n",
            "391/391 [==============================] - 546s 1s/step - loss: 0.7081 - acc: 0.7702 - val_loss: 0.6544 - val_acc: 0.7934\n",
            "Epoch 15/30\n",
            "390/391 [============================>.] - ETA: 1s - loss: 0.6852 - acc: 0.7788Epoch 1/30\n",
            "5000/391 [===============================================================================================================================================================================================================================================================================================================================================================================================] - 15s 3ms/sample - loss: 0.8124 - acc: 0.7342\n",
            "391/391 [==============================] - 548s 1s/step - loss: 0.6851 - acc: 0.7789 - val_loss: 0.8812 - val_acc: 0.7342\n",
            "Epoch 16/30\n",
            "390/391 [============================>.] - ETA: 1s - loss: 0.6688 - acc: 0.7843Epoch 1/30\n",
            "5000/391 [===============================================================================================================================================================================================================================================================================================================================================================================================] - 13s 3ms/sample - loss: 0.5021 - acc: 0.8026\n",
            "391/391 [==============================] - 555s 1s/step - loss: 0.6688 - acc: 0.7843 - val_loss: 0.6136 - val_acc: 0.8026\n",
            "Epoch 17/30\n",
            "390/391 [============================>.] - ETA: 1s - loss: 0.6535 - acc: 0.7899Epoch 1/30\n",
            "5000/391 [===============================================================================================================================================================================================================================================================================================================================================================================================] - 13s 3ms/sample - loss: 0.5428 - acc: 0.8064\n",
            "391/391 [==============================] - 554s 1s/step - loss: 0.6536 - acc: 0.7898 - val_loss: 0.6293 - val_acc: 0.8064\n",
            "Epoch 18/30\n",
            "390/391 [============================>.] - ETA: 1s - loss: 0.6341 - acc: 0.7969Epoch 1/30\n",
            "5000/391 [===============================================================================================================================================================================================================================================================================================================================================================================================] - 13s 3ms/sample - loss: 0.4349 - acc: 0.8174\n",
            "391/391 [==============================] - 563s 1s/step - loss: 0.6342 - acc: 0.7969 - val_loss: 0.5825 - val_acc: 0.8174\n",
            "Epoch 19/30\n",
            "390/391 [============================>.] - ETA: 1s - loss: 0.6250 - acc: 0.8009Epoch 1/30\n",
            "5000/391 [===============================================================================================================================================================================================================================================================================================================================================================================================] - 13s 3ms/sample - loss: 0.4669 - acc: 0.8014\n",
            "391/391 [==============================] - 566s 1s/step - loss: 0.6252 - acc: 0.8009 - val_loss: 0.6368 - val_acc: 0.8014\n",
            "Epoch 20/30\n",
            "390/391 [============================>.] - ETA: 1s - loss: 0.6123 - acc: 0.8037Epoch 1/30\n",
            "5000/391 [===============================================================================================================================================================================================================================================================================================================================================================================================] - 13s 3ms/sample - loss: 0.3982 - acc: 0.8246\n",
            "391/391 [==============================] - 563s 1s/step - loss: 0.6123 - acc: 0.8037 - val_loss: 0.5615 - val_acc: 0.8246\n",
            "Epoch 21/30\n",
            "390/391 [============================>.] - ETA: 1s - loss: 0.5968 - acc: 0.8096Epoch 1/30\n",
            "5000/391 [===============================================================================================================================================================================================================================================================================================================================================================================================] - 13s 3ms/sample - loss: 0.6148 - acc: 0.8026\n",
            "391/391 [==============================] - 562s 1s/step - loss: 0.5971 - acc: 0.8095 - val_loss: 0.6558 - val_acc: 0.8026\n",
            "Epoch 22/30\n",
            "390/391 [============================>.] - ETA: 1s - loss: 0.5888 - acc: 0.8131Epoch 1/30\n",
            "5000/391 [===============================================================================================================================================================================================================================================================================================================================================================================================] - 13s 3ms/sample - loss: 0.4331 - acc: 0.8328\n",
            "391/391 [==============================] - 551s 1s/step - loss: 0.5886 - acc: 0.8131 - val_loss: 0.5363 - val_acc: 0.8328\n",
            "Epoch 23/30\n",
            "390/391 [============================>.] - ETA: 1s - loss: 0.5772 - acc: 0.8180Epoch 1/30\n",
            "5000/391 [===============================================================================================================================================================================================================================================================================================================================================================================================] - 13s 3ms/sample - loss: 0.5680 - acc: 0.8238\n",
            "391/391 [==============================] - 562s 1s/step - loss: 0.5770 - acc: 0.8181 - val_loss: 0.5834 - val_acc: 0.8238\n",
            "Epoch 24/30\n",
            "390/391 [============================>.] - ETA: 1s - loss: 0.5682 - acc: 0.8218Epoch 1/30\n",
            "5000/391 [===============================================================================================================================================================================================================================================================================================================================================================================================] - 13s 3ms/sample - loss: 0.4856 - acc: 0.8310\n",
            "391/391 [==============================] - 560s 1s/step - loss: 0.5683 - acc: 0.8218 - val_loss: 0.5310 - val_acc: 0.8310\n",
            "Epoch 25/30\n",
            "390/391 [============================>.] - ETA: 1s - loss: 0.5593 - acc: 0.8224Epoch 1/30\n",
            "5000/391 [===============================================================================================================================================================================================================================================================================================================================================================================================] - 13s 3ms/sample - loss: 0.4632 - acc: 0.8292\n",
            "391/391 [==============================] - 560s 1s/step - loss: 0.5593 - acc: 0.8224 - val_loss: 0.5544 - val_acc: 0.8292\n",
            "Epoch 26/30\n",
            "390/391 [============================>.] - ETA: 1s - loss: 0.5497 - acc: 0.8304Epoch 1/30\n",
            "5000/391 [===============================================================================================================================================================================================================================================================================================================================================================================================] - 13s 3ms/sample - loss: 0.3484 - acc: 0.8412\n",
            "391/391 [==============================] - 560s 1s/step - loss: 0.5496 - acc: 0.8304 - val_loss: 0.5173 - val_acc: 0.8412\n",
            "Epoch 27/30\n",
            "390/391 [============================>.] - ETA: 1s - loss: 0.5453 - acc: 0.8296Epoch 1/30\n",
            "5000/391 [===============================================================================================================================================================================================================================================================================================================================================================================================] - 13s 3ms/sample - loss: 0.3802 - acc: 0.8366\n",
            "391/391 [==============================] - 558s 1s/step - loss: 0.5451 - acc: 0.8297 - val_loss: 0.5176 - val_acc: 0.8366\n",
            "Epoch 28/30\n",
            "390/391 [============================>.] - ETA: 1s - loss: 0.5334 - acc: 0.8330Epoch 1/30\n",
            "5000/391 [===============================================================================================================================================================================================================================================================================================================================================================================================] - 13s 3ms/sample - loss: 0.4071 - acc: 0.8380\n",
            "391/391 [==============================] - 553s 1s/step - loss: 0.5330 - acc: 0.8332 - val_loss: 0.5290 - val_acc: 0.8380\n",
            "Epoch 29/30\n",
            "390/391 [============================>.] - ETA: 1s - loss: 0.5234 - acc: 0.8366Epoch 1/30\n",
            "5000/391 [===============================================================================================================================================================================================================================================================================================================================================================================================] - 13s 3ms/sample - loss: 0.5057 - acc: 0.8230\n",
            "391/391 [==============================] - 554s 1s/step - loss: 0.5236 - acc: 0.8364 - val_loss: 0.5812 - val_acc: 0.8230\n",
            "Epoch 30/30\n",
            "390/391 [============================>.] - ETA: 1s - loss: 0.5239 - acc: 0.8369Epoch 1/30\n",
            "5000/391 [===============================================================================================================================================================================================================================================================================================================================================================================================] - 13s 3ms/sample - loss: 0.3670 - acc: 0.8528\n",
            "391/391 [==============================] - 560s 1s/step - loss: 0.5241 - acc: 0.8369 - val_loss: 0.5026 - val_acc: 0.8528\n"
          ],
          "name": "stdout"
        }
      ]
    },
    {
      "cell_type": "code",
      "metadata": {
        "id": "JMSgkI5316rE",
        "colab_type": "code",
        "colab": {
          "base_uri": "https://localhost:8080/",
          "height": 286
        },
        "outputId": "8b196d5a-e1c1-4dbd-9268-82378a694fc6"
      },
      "source": [
        "plt.plot(historyAdamax.history['acc'])"
      ],
      "execution_count": 20,
      "outputs": [
        {
          "output_type": "execute_result",
          "data": {
            "text/plain": [
              "[<matplotlib.lines.Line2D at 0x7f0eabe851d0>]"
            ]
          },
          "metadata": {
            "tags": []
          },
          "execution_count": 20
        },
        {
          "output_type": "display_data",
          "data": {
            "image/png": "[encoded data removed]",
            "text/plain": [
              "<Figure size 432x288 with 1 Axes>"
            ]
          },
          "metadata": {
            "tags": []
          }
        }
      ]
    },
    {
      "cell_type": "code",
      "metadata": {
        "id": "gCkP03BYmOU-",
        "colab_type": "code",
        "colab": {
          "base_uri": "https://localhost:8080/",
          "height": 606
        },
        "outputId": "e647ae6a-03fb-4c99-f6ff-d7742409cb92"
      },
      "source": [
        "# \n",
        "plt.plot( historyAdamax.history['acc'])\n",
        "plt.plot( historyAdamax.history['val_acc'])\n",
        "plt.title('Adamax - Accuracy')\n",
        "plt.ylabel('accuracy')\n",
        "plt.xlabel('epoch')\n",
        "plt.legend(['train', 'val'])\n",
        "#plt.savefig('Adamax-Accuracy.jpg')\n",
        "plt.show()\n",
        "\n",
        "print()\n",
        "print()\n",
        "\n",
        "plt.plot( historyAdamax.history['loss'])\n",
        "plt.plot( historyAdamax.history['val_loss'])\n",
        "plt.title('Adamax - Loss')\n",
        "plt.ylabel('loss')\n",
        "plt.xlabel('epoch')\n",
        "plt.legend(['train', 'val'])\n",
        "#plt.savefig('Adamax-Loss.jpg')\n",
        "plt.show()\n"
      ],
      "execution_count": 25,
      "outputs": [
        {
          "output_type": "display_data",
          "data": {
            "image/png": "[encoded data removed]",
            "text/plain": [
              "<Figure size 432x288 with 1 Axes>"
            ]
          },
          "metadata": {
            "tags": []
          }
        },
        {
          "output_type": "stream",
          "text": [
            "\n",
            "\n"
          ],
          "name": "stdout"
        },
        {
          "output_type": "display_data",
          "data": {
            "image/png": "[encoded data removed]",
            "text/plain": [
              "<Figure size 432x288 with 1 Axes>"
            ]
          },
          "metadata": {
            "tags": []
          }
        }
      ]
    },
    {
      "cell_type": "code",
      "metadata": {
        "id": "UiKRYOWPfhJs",
        "colab_type": "code",
        "colab": {}
      },
      "source": [
        "def plot_confusion_matrix(cm, classes,\n",
        "                          normalize=False,\n",
        "                          title='Confusion matrix',\n",
        "                          cmap=plt.cm.Blues):\n",
        "    \"\"\"\n",
        "    This function prints and plots the confusion matrix.\n",
        "    Normalization can be applied by setting `normalize=True`.\n",
        "    \"\"\"\n",
        "    if normalize:\n",
        "        cm = cm.astype('float') / cm.sum(axis=1)[:, np.newaxis]\n",
        "        print(\"Normalized confusion matrix\")\n",
        "    else:\n",
        "        print('Confusion matrix, without normalization')\n",
        "\n",
        "    print(cm)\n",
        "\n",
        "    plt.imshow(cm, interpolation='nearest', cmap=cmap)\n",
        "    plt.title(title)\n",
        "    plt.colorbar()\n",
        "    tick_marks = np.arange(len(classes))\n",
        "    plt.xticks(tick_marks, classes, rotation=45)\n",
        "    plt.yticks(tick_marks, classes)\n",
        "\n",
        "    fmt = '.2f' if normalize else 'd'\n",
        "    thresh = cm.max() / 2.\n",
        "    for i, j in itertools.product(range(cm.shape[0]), range(cm.shape[1])):\n",
        "        plt.text(j, i, format(cm[i, j], fmt),\n",
        "                 horizontalalignment=\"center\",\n",
        "                 color=\"white\" if cm[i, j] > thresh else \"black\")\n",
        "\n",
        "    plt.ylabel('True label')\n",
        "    plt.xlabel('Predicted label')\n",
        "    plt.tight_layout()"
      ],
      "execution_count": 0,
      "outputs": []
    },
    {
      "cell_type": "code",
      "metadata": {
        "id": "BqY-vngiRoTZ",
        "colab_type": "code",
        "outputId": "5a7194ab-e03e-4fae-9685-cd4f3484e4ef",
        "colab": {
          "base_uri": "https://localhost:8080/",
          "height": 482
        }
      },
      "source": [
        "results = modelAdamax.predict(x_test, batch_size=hparams.test_batch_size)\n",
        "\n",
        "# convert from class probabilities to actual class predictions\n",
        "predicted_classes = np.argmax(results, axis=1)\n",
        "\n",
        "# Names of predicted classes\n",
        "class_names = [\"airplane\", \"automobile\", \"bird\", \"cat\", \"deer\", \"dog\", \"frog\", \"horse\", \"ship\", \"truck\"]\n",
        "\n",
        "# Generate the confusion matrix\n",
        "cnf_matrix = confusion_matrix(y_test, predicted_classes)\n",
        "\n",
        "# Plot non-normalized confusion matrix\n",
        "plt.figure()\n",
        "plot_confusion_matrix(cnf_matrix, classes=class_names,\n",
        "                      title='Confusion matrix, without normalization')\n",
        "\n",
        "plt.show()"
      ],
      "execution_count": 23,
      "outputs": [
        {
          "output_type": "stream",
          "text": [
            "Confusion matrix, without normalization\n",
            "[[406  15   5   9  13   0   2   5  15  18]\n",
            " [  4 480   0   0   0   0   0   1   2  18]\n",
            " [ 30   1 353  26  29  18  37   9   1   8]\n",
            " [  4   1  11 364  21  31  34  15   6  10]\n",
            " [  1   1  11  18 422   8  28  16   1   1]\n",
            " [  4   3   7  70  14 356  13  14   0   7]\n",
            " [  3   1   4  18   8   2 450   3   0   2]\n",
            " [  5   2   2  17  11  14   4 436   0   4]\n",
            " [ 14  10   1   1   2   0   2   1 453  20]\n",
            " [  7  17   0   1   0   0   0   0   5 483]]\n"
          ],
          "name": "stdout"
        },
        {
          "output_type": "display_data",
          "data": {
            "image/png": "[encoded data removed]",
            "text/plain": [
              "<Figure size 432x288 with 2 Axes>"
            ]
          },
          "metadata": {
            "tags": []
          }
        }
      ]
    },
    {
      "cell_type": "code",
      "metadata": {
        "id": "sYIAFf52yipF",
        "colab_type": "code",
        "outputId": "f9274fd8-00f3-4148-eb20-d8c0e0afa27c",
        "colab": {
          "base_uri": "https://localhost:8080/",
          "height": 34
        }
      },
      "source": [
        "print(\"Test Accuracy: %.2f%%\" % (sum(y_test == predicted_classes) * 100. / y_test.shape[0]))"
      ],
      "execution_count": 24,
      "outputs": [
        {
          "output_type": "stream",
          "text": [
            "Test Accuracy: 84.06%\n"
          ],
          "name": "stdout"
        }
      ]
    }
  ]
}